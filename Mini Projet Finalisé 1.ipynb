{
 "cells": [
  {
   "cell_type": "markdown",
   "id": "2eb936ca",
   "metadata": {},
   "source": [
    "# Mini-Projets"
   ]
  },
  {
   "cell_type": "markdown",
   "id": "be700f83",
   "metadata": {},
   "source": [
    "## Exercice 1 : Exploration initiale"
   ]
  },
  {
   "cell_type": "code",
   "execution_count": null,
   "id": "65578086",
   "metadata": {},
   "outputs": [],
   "source": [
    "#Charger le fichier dans un DataFrame\n",
    "import pandas as pd\n",
    "database = pd.read_csv(\"C:/Users/HP/Desktop/DATA ANALYST/5-PYTHON/Formation Python/Mini_Projet/ventes_magasin - ventes_magasin.csv.csv\")"
   ]
  },
  {
   "cell_type": "code",
   "execution_count": null,
   "id": "51718c59",
   "metadata": {},
   "outputs": [],
   "source": [
    "#databaseAfficher les premières lignes \n",
    "database.head()"
   ]
  },
  {
   "cell_type": "code",
   "execution_count": null,
   "id": "f04c7c73",
   "metadata": {},
   "outputs": [],
   "source": [
    "# Nombre de lignes et colonnes de la base de données\n",
    "database.shape"
   ]
  },
  {
   "cell_type": "code",
   "execution_count": null,
   "id": "ef864327",
   "metadata": {},
   "outputs": [],
   "source": [
    "# Quelles sont les colonnes ? \n",
    "database.info()"
   ]
  },
  {
   "cell_type": "code",
   "execution_count": null,
   "id": "2a7c5622",
   "metadata": {},
   "outputs": [],
   "source": [
    "database.columns# autres méthode pour afficher les colonnes"
   ]
  },
  {
   "cell_type": "markdown",
   "id": "34a14d8f",
   "metadata": {},
   "source": [
    "## Exercice 2 : Calculs simples"
   ]
  },
  {
   "cell_type": "code",
   "execution_count": null,
   "id": "a4fa985c",
   "metadata": {},
   "outputs": [],
   "source": [
    "# Créer une nouvelle base de données avec la colonne Total_Vente “Total_Vente” = Prix × Quantité \n",
    "database_1 = database.copy()\n",
    "database_1[\"Total_Vente\"] = database_1[\"Prix\"] * database_1[\"Quantité\"]\n",
    "pd.set_option('display.max_columns', None)     # Affiche toutes les colonnes\n",
    "pd.set_option('display.expand_frame_repr', False)  # Empêche les retours à la ligne\n",
    "pd.set_option('display.width', 0)  \n",
    "print(database_1)"
   ]
  },
  {
   "cell_type": "code",
   "execution_count": null,
   "id": "3724a732",
   "metadata": {},
   "outputs": [],
   "source": [
    "# Ajouter la colonne Prix_net après remise\n",
    "database_1[\"Prix_net\"] = database_1[\"Prix\"] * (1 - database_1[\"Remise (%)\"].fillna(0) / 100)\n",
    "print(database_1)"
   ]
  },
  {
   "cell_type": "code",
   "execution_count": null,
   "id": "3fcdea40",
   "metadata": {},
   "outputs": [],
   "source": [
    "# Traitement des valeurs manquantes \n",
    "database_1[\"Remise (%)\"] = database_1[\"Remise (%)\"].fillna(0)\n",
    "print(database_1)"
   ]
  },
  {
   "cell_type": "code",
   "execution_count": null,
   "id": "81219e18",
   "metadata": {},
   "outputs": [],
   "source": [
    "# Trier les ventes du plus grand au plus petit chiffre d'affaires \n",
    "database_1 = database_1.sort_values(by=\"Total_Vente\", ascending=False)\n",
    "print(database_1)"
   ]
  },
  {
   "cell_type": "code",
   "execution_count": null,
   "id": "5f632e28",
   "metadata": {},
   "outputs": [],
   "source": [
    "# Importer la base de données en fichier Excel\n",
    "database_1.to_excel(\"Ventes_magasin.xlsx\", index=False)"
   ]
  },
  {
   "cell_type": "markdown",
   "id": "e773fe16",
   "metadata": {},
   "source": [
    "## Exercice 3 : Analyse par magasin"
   ]
  },
  {
   "cell_type": "code",
   "execution_count": null,
   "id": "56916fed",
   "metadata": {},
   "outputs": [],
   "source": [
    "# le magasin qui a vendu le plus\n",
    "vente_par_magasin = database_1.groupby(\"Magasin\")[\"Total_Vente\"].sum().sort_values(ascending=False)\n",
    "print(vente_par_magasin.head(1))"
   ]
  },
  {
   "cell_type": "code",
   "execution_count": null,
   "id": "12d5deb9",
   "metadata": {},
   "outputs": [],
   "source": [
    "# Chiffre d'affaire par magasin\n",
    "vente_par_magasin = database_1.groupby(\"Magasin\")[\"Total_Vente\"].sum().sort_values(ascending=False)\n",
    "print(vente_par_magasin)"
   ]
  },
  {
   "cell_type": "code",
   "execution_count": null,
   "id": "4f802c44",
   "metadata": {},
   "outputs": [],
   "source": [
    "# Quel produit est le plus vendu à Kinshasa \n",
    "ventes_kinshasa = database_1[database_1[\"Magasin\"] == \"Kinshasa\"]\n",
    "produit_plus_vendu = ventes_kinshasa.groupby(\"Produit\")[\"Quantité\"].sum().sort_values(ascending=False)\n",
    "print(produit_plus_vendu)"
   ]
  },
  {
   "cell_type": "markdown",
   "id": "bddf74d1",
   "metadata": {},
   "source": [
    "## Exercice 4 : Valeurs manquantes"
   ]
  },
  {
   "cell_type": "code",
   "execution_count": null,
   "id": "be9a2e4b",
   "metadata": {},
   "outputs": [],
   "source": [
    "# Simuler des valeurs manquantes dans \"Remise (%)\" \n",
    "database_1[\"Remise (%)\"] = database_1[\"Remise (%)\"].fillna(5) # en supposant que la remise est de 5%\n",
    "print(database_1)"
   ]
  },
  {
   "cell_type": "code",
   "execution_count": null,
   "id": "e8119413",
   "metadata": {},
   "outputs": [],
   "source": [
    "# ● Remplacer les valeurs manquantes par la moyenne\n",
    "remise_moyen = database_1[\"Remise (%)\"].mean() # Calcul de la moyenne (en ignorant les NaN)\n",
    "database_1[\"Remise (%)\"] = database_1[\"Remise (%)\"].fillna(remise_moyen) # Remplacement des NaN par la moyenne\n",
    "print(database_1)"
   ]
  },
  {
   "cell_type": "code",
   "execution_count": null,
   "id": "310cebc7",
   "metadata": {},
   "outputs": [],
   "source": [
    "#Vérifier les types de chaque colonne après\n",
    "database_1.dtypes"
   ]
  },
  {
   "cell_type": "code",
   "execution_count": null,
   "id": "dcc2bf1a",
   "metadata": {},
   "outputs": [],
   "source": [
    "#Vérifier les types de chaque colonne après\n",
    "database_1.info()"
   ]
  },
  {
   "cell_type": "markdown",
   "id": "be4eabd0",
   "metadata": {},
   "source": [
    "## Exercice 5 : GroupBy avancé"
   ]
  },
  {
   "cell_type": "code",
   "execution_count": null,
   "id": "74492202",
   "metadata": {},
   "outputs": [],
   "source": [
    "# Moyenne de prix par catégorie \n",
    "moyenne_prix_par_categorie = database_1.groupby(\"Catégorie\")[\"Prix\"].mean()\n",
    "print(moyenne_prix_par_categorie)"
   ]
  },
  {
   "cell_type": "code",
   "execution_count": null,
   "id": "64e6b4fe",
   "metadata": {},
   "outputs": [],
   "source": [
    "# Total des ventes par mois \n",
    "database_1[\"Date\"] = pd.to_datetime(database_1[\"Date\"]) # convertir la colonne \"Date\" en format datetime\n",
    "database_1[\"Mois\"] = database_1[\"Date\"].dt.to_period(\"M\") # extraire le mois (année-mois)\n",
    "total_par_mois = database_1.groupby(\"Mois\")[\"Total_Vente\"].sum() # total des ventes par mois\n",
    "print(total_par_mois)"
   ]
  },
  {
   "cell_type": "code",
   "execution_count": null,
   "id": "39c23abe",
   "metadata": {},
   "outputs": [],
   "source": [
    "# Nombre de ventes par produit\n",
    "ventes_par_produit = database_1.groupby(\"Produit\")[\"Quantité\"].sum()# Nombre total d’unités vendues par produit\n",
    "print(ventes_par_produit)"
   ]
  },
  {
   "cell_type": "code",
   "execution_count": null,
   "id": "40d9e575",
   "metadata": {},
   "outputs": [],
   "source": [
    "# le nombre d’opérations (lignes de vente) par produit :\n",
    "nombre_lignes_par_produit = database_1[\"Produit\"].value_counts()\n",
    "print(nombre_lignes_par_produit)"
   ]
  },
  {
   "cell_type": "markdown",
   "id": "956ff9a2",
   "metadata": {},
   "source": [
    "## VISUALISATION"
   ]
  },
  {
   "cell_type": "markdown",
   "id": "6139bc6c",
   "metadata": {},
   "source": [
    "# Représenter graphiquement les ventes par magasin"
   ]
  },
  {
   "cell_type": "code",
   "execution_count": null,
   "id": "fa813c1f",
   "metadata": {},
   "outputs": [],
   "source": [
    "# Importation des bibliothèques seaborn, numpy et matplotlib\n",
    "import seaborn as sns \n",
    "import numpy as np \n",
    "import matplotlib.pyplot as plt "
   ]
  },
  {
   "cell_type": "code",
   "execution_count": null,
   "id": "6b0ed621",
   "metadata": {},
   "outputs": [],
   "source": [
    "# Calacul de la colonne Total_net\n",
    "database_1[\"Total_net\"] = database_1[\"Prix_net\"] * database_1[\"Quantité\"]\n",
    "database_1"
   ]
  },
  {
   "cell_type": "code",
   "execution_count": null,
   "id": "39628c85",
   "metadata": {},
   "outputs": [],
   "source": [
    "# Calcul des ventes nettes par magasin\n",
    "ventes_par_magasin = database_1.groupby(\"Magasin\")[\"Total_net\"].sum().sort_values(ascending=False)\n",
    "ventes_par_magasin"
   ]
  },
  {
   "cell_type": "code",
   "execution_count": null,
   "id": "198c38a3",
   "metadata": {},
   "outputs": [],
   "source": [
    "# Représenter graphiquement les ventes par magasin\n",
    "plt.figure(figsize=(10,6))\n",
    "sns.barplot(x=ventes_par_magasin.index, y=ventes_par_magasin.values, palette=\"viridis\")\n",
    "plt.title(\"Total des ventes par magasin\", fontsize=14)\n",
    "plt.xlabel(\"Magasin\")\n",
    "plt.ylabel(\"Total des ventes (net)\")\n",
    "plt.xticks(rotation=45)\n",
    "plt.tight_layout()\n",
    "plt.show()"
   ]
  },
  {
   "cell_type": "code",
   "execution_count": null,
   "id": "f90d0986",
   "metadata": {},
   "outputs": [],
   "source": [
    "\n",
    "# Créer un bar plot des produits les plus vendus \n",
    "# Agréger la quantité totale vendue par produit\n",
    "ventes_par_produit = database_1.groupby(\"Produit\")[\"Quantité\"].sum().sort_values(ascending=False)\n",
    "ventes_par_produit = database_1.groupby(\"Produit\")[\"Quantité\"].sum().sort_values(ascending=False).reset_index()"
   ]
  },
  {
   "cell_type": "code",
   "execution_count": null,
   "id": "672e6ca4",
   "metadata": {},
   "outputs": [],
   "source": [
    "# Création du bar plot\n",
    "plt.figure(figsize=(12, 6))\n",
    "sns.barplot(data=ventes_par_produit, x=\"Produit\", y=\"Quantité\", palette=\"crest\")\n",
    "plt.title(\"Produits les plus vendus\", fontsize=14)\n",
    "plt.xlabel(\"Produit\")\n",
    "plt.ylabel(\"Quantité totale vendue\")\n",
    "plt.xticks(rotation=45)\n",
    "plt.tight_layout()\n",
    "plt.show()"
   ]
  },
  {
   "cell_type": "markdown",
   "id": "9bfd2a86",
   "metadata": {},
   "source": [
    "## Diagramme en barres horizontal (Top 10)"
   ]
  },
  {
   "cell_type": "code",
   "execution_count": null,
   "id": "5ac80bde",
   "metadata": {},
   "outputs": [],
   "source": [
    "# Top 10 produits les plus vendus\n",
    "ventes_par_produit = database_1.groupby(\"Produit\")[\"Quantité\"].sum().sort_values(ascending=False).head(10)"
   ]
  },
  {
   "cell_type": "code",
   "execution_count": null,
   "id": "a435051c",
   "metadata": {},
   "outputs": [],
   "source": [
    "# Barres horizontales\n",
    "plt.figure(figsize=(10, 6))\n",
    "sns.barplot(x=ventes_par_produit.values, y=ventes_par_produit.index, palette=\"Blues_r\")\n",
    "plt.title(\"Top 10 des produits les plus vendus\", fontsize=14)\n",
    "plt.xlabel(\"Quantité totale vendue\")\n",
    "plt.ylabel(\"Produit\")\n",
    "plt.tight_layout()\n",
    "plt.show()"
   ]
  },
  {
   "cell_type": "markdown",
   "id": "ad04351e",
   "metadata": {},
   "source": [
    "## Diagramme circulaire (camembert, Top 5)"
   ]
  },
  {
   "cell_type": "code",
   "execution_count": null,
   "id": "f6e4cbdd",
   "metadata": {},
   "outputs": [],
   "source": [
    "# Top 5 produits pour éviter surcharge visuelle\n",
    "ventes_top5 = ventes_par_produit.head(5)"
   ]
  },
  {
   "cell_type": "code",
   "execution_count": null,
   "id": "acb0448e",
   "metadata": {},
   "outputs": [],
   "source": [
    "# Diagramme circulaire\n",
    "plt.figure(figsize=(7, 7))\n",
    "plt.pie(ventes_top5.values, labels=ventes_top5.index, autopct='%1.1f%%', startangle=140, colors=sns.color_palette(\"pastel\"))\n",
    "plt.title(\"Répartition des 5 produits les plus vendus\")\n",
    "plt.axis('equal')  # Cercle parfait\n",
    "plt.show()"
   ]
  },
  {
   "cell_type": "markdown",
   "id": "19288e89",
   "metadata": {},
   "source": [
    "## Ventes par catégorie de produit"
   ]
  },
  {
   "cell_type": "code",
   "execution_count": null,
   "id": "462dd712",
   "metadata": {},
   "outputs": [],
   "source": [
    "# Total des ventes nettes par catégorie\n",
    "ventes_par_categorie = database_1.groupby(\"Catégorie\")[\"Prix_net\"].sum().sort_values(ascending=False)"
   ]
  },
  {
   "cell_type": "code",
   "execution_count": null,
   "id": "dfa6cbab",
   "metadata": {},
   "outputs": [],
   "source": [
    "# Diagramme en barres\n",
    "plt.figure(figsize=(10, 6))\n",
    "sns.barplot(x=ventes_par_categorie.index, y=ventes_par_categorie.values, palette=\"Set2\")\n",
    "\n",
    "plt.title(\"Total des ventes par catégorie de produit\", fontsize=14)\n",
    "plt.xlabel(\"Catégorie\")\n",
    "plt.ylabel(\"Ventes nettes\")\n",
    "plt.xticks(rotation=45)\n",
    "plt.tight_layout()\n",
    "plt.show()"
   ]
  },
  {
   "cell_type": "markdown",
   "id": "5eadf3b2",
   "metadata": {},
   "source": [
    "## Ventes par mois"
   ]
  },
  {
   "cell_type": "code",
   "execution_count": null,
   "id": "c2520284",
   "metadata": {},
   "outputs": [],
   "source": [
    "# S'assurer que la colonne Date est bien au format datetime\n",
    "database_1[\"Date\"] = pd.to_datetime(database_1[\"Date\"])"
   ]
  },
  {
   "cell_type": "code",
   "execution_count": null,
   "id": "12903bf3",
   "metadata": {},
   "outputs": [],
   "source": [
    "# Extraire le mois\n",
    "database_1[\"Mois\"] = database_1[\"Date\"].dt.to_period(\"M\")"
   ]
  },
  {
   "cell_type": "code",
   "execution_count": null,
   "id": "c6bad232",
   "metadata": {},
   "outputs": [],
   "source": [
    "# Total des ventes nettes par mois\n",
    "ventes_par_mois = database_1.groupby(\"Mois\")[\"Prix_net\"].sum()"
   ]
  },
  {
   "cell_type": "code",
   "execution_count": null,
   "id": "8d87f9ee",
   "metadata": {},
   "outputs": [],
   "source": [
    "# Représentation graphique\n",
    "plt.figure(figsize=(10, 6))\n",
    "ventes_par_mois.plot(kind='bar', color='salmon')\n",
    "plt.title(\"Ventes nettes par mois\", fontsize=14)\n",
    "plt.xlabel(\"Mois\")\n",
    "plt.ylabel(\"Ventes nettes\")\n",
    "plt.xticks(rotation=45)\n",
    "plt.tight_layout()\n",
    "plt.show()\n"
   ]
  },
  {
   "cell_type": "markdown",
   "id": "26423d69",
   "metadata": {},
   "source": [
    "## EXPORTATION DES RESULTATS"
   ]
  },
  {
   "cell_type": "code",
   "execution_count": null,
   "id": "fcefb8b4",
   "metadata": {},
   "outputs": [],
   "source": [
    "import pandas as pd\n",
    "import matplotlib.pyplot as plt\n",
    "from docx import Document\n",
    "from docx.shared import Inches\n"
   ]
  },
  {
   "cell_type": "code",
   "execution_count": null,
   "id": "68c7b2e3",
   "metadata": {},
   "outputs": [],
   "source": [
    "# ─────────────────────────────────────────────\n",
    "# 1. METTRE À JOUR LES COLONNES NÉCESSAIRES\n",
    "# ─────────────────────────────────────────────\n",
    "# (On part de database_1 déjà présent en mémoire)\n",
    "database_1[\"Date\"] = pd.to_datetime(database_1[\"Date\"])\n",
    "database_1[\"Mois\"] = database_1[\"Date\"].dt.to_period(\"M\")\n",
    "\n",
    "# Vérifie/calcul si Total_net absent\n",
    "if \"Prix_net\" not in database_1.columns:\n",
    "    database_1[\"Prix_net\"] = database_1[\"Prix\"] * (1 - database_1[\"Remise (%)\"].fillna(0)/100)\n",
    "if \"Total_net\" not in database_1.columns:\n",
    "    database_1[\"Total_net\"] = database_1[\"Prix_net\"] * database_1[\"Quantité\"]"
   ]
  },
  {
   "cell_type": "code",
   "execution_count": null,
   "id": "976f6ea8",
   "metadata": {},
   "outputs": [],
   "source": [
    "# ─────────────────────────────────────────────\n",
    "# 2. CRÉER LE DOCUMENT WORD\n",
    "# ─────────────────────────────────────────────\n",
    "doc = Document()\n",
    "doc.add_heading(\"Analyse graphique des ventes\", 0)\n",
    "\n",
    "def save_fig_and_write(fig, filename, titre, resume):\n",
    "    \"\"\"Sauvegarde la figure, l’insère dans le doc puis ferme la figure.\"\"\"\n",
    "    fig.savefig(filename, bbox_inches='tight')\n",
    "    doc.add_heading(titre, level=1)\n",
    "    doc.add_paragraph(resume)\n",
    "    doc.add_picture(filename, width=Inches(6))\n",
    "    plt.close(fig)"
   ]
  },
  {
   "cell_type": "code",
   "execution_count": null,
   "id": "472de7da",
   "metadata": {},
   "outputs": [],
   "source": [
    "# ─────────────────────────────────────────────\n",
    "# 3. GRAPHIQUE 1 – VENTES PAR MAGASIN\n",
    "# ─────────────────────────────────────────────\n",
    "ventes_mag = database_1.groupby(\"Magasin\")[\"Total_net\"].sum().sort_values(ascending=False)\n",
    "fig1 = plt.figure(figsize=(10, 6))\n",
    "plt.bar(ventes_mag.index, ventes_mag.values)\n",
    "plt.title(\"Total des ventes nettes par magasin\")\n",
    "plt.xticks(rotation=45)\n",
    "plt.ylabel(\"Ventes nettes\")\n",
    "mag_max = ventes_mag.idxmax()\n",
    "resume1 = (\n",
    "    f\"Le magasin qui réalise le plus grand chiffre d'affaires net est **{mag_max}** \"\n",
    "    f\"avec environ {ventes_mag.max():,.0f} unités monétaires.\"\n",
    ")\n",
    "save_fig_and_write(fig1, \"ventes_magasin.png\", \"1. Ventes par magasin\", resume1)\n"
   ]
  },
  {
   "cell_type": "code",
   "execution_count": null,
   "id": "2140e1f3",
   "metadata": {},
   "outputs": [],
   "source": [
    "# ─────────────────────────────────────────────\n",
    "# 4. GRAPHIQUE 2 – VENTES PAR CATÉGORIE\n",
    "# ─────────────────────────────────────────────\n",
    "ventes_cat = database_1.groupby(\"Catégorie\")[\"Total_net\"].sum().sort_values(ascending=False)\n",
    "fig2 = plt.figure(figsize=(10, 6))\n",
    "plt.bar(ventes_cat.index, ventes_cat.values)\n",
    "plt.title(\"Total des ventes nettes par catégorie\")\n",
    "plt.xticks(rotation=45)\n",
    "plt.ylabel(\"Ventes nettes\")\n",
    "cat_max = ventes_cat.idxmax()\n",
    "resume2 = (\n",
    "    f\"La catégorie la plus lucrative est **{cat_max}** avec \"\n",
    "    f\"{ventes_cat.max():,.0f} unités monétaires.\"\n",
    ")\n",
    "save_fig_and_write(fig2, \"ventes_categorie.png\", \"2. Ventes par catégorie\", resume2)"
   ]
  },
  {
   "cell_type": "code",
   "execution_count": null,
   "id": "56884ee1",
   "metadata": {},
   "outputs": [],
   "source": [
    "# ─────────────────────────────────────────────\n",
    "# 5. GRAPHIQUE 3 – VENTES PAR MOIS\n",
    "# ─────────────────────────────────────────────\n",
    "ventes_mois = database_1.groupby(\"Mois\")[\"Total_net\"].sum()\n",
    "fig3 = plt.figure(figsize=(10, 6))\n",
    "plt.bar(ventes_mois.index.astype(str), ventes_mois.values)\n",
    "plt.title(\"Ventes nettes par mois\")\n",
    "plt.xticks(rotation=45)\n",
    "plt.ylabel(\"Ventes nettes\")\n",
    "mois_max = ventes_mois.idxmax()\n",
    "resume3 = (\n",
    "    f\"Le mois le plus performant est **{mois_max}** avec \"\n",
    "    f\"{ventes_mois.max():,.0f} unités monétaires.\"\n",
    ")\n",
    "save_fig_and_write(fig3, \"ventes_mois.png\", \"3. Ventes par mois\", resume3)"
   ]
  },
  {
   "cell_type": "code",
   "execution_count": null,
   "id": "042c2dcd",
   "metadata": {},
   "outputs": [],
   "source": [
    "# ─────────────────────────────────────────────\n",
    "# 6. GRAPHIQUE 4 – PRODUITS LES PLUS VENDUS (TOP 10)\n",
    "# ─────────────────────────────────────────────\n",
    "ventes_prod = (\n",
    "    database_1.groupby(\"Produit\")[\"Quantité\"]\n",
    "    .sum()\n",
    "    .sort_values(ascending=False)\n",
    "    .head(10)\n",
    ")\n",
    "fig4 = plt.figure(figsize=(10, 6))\n",
    "plt.bar(ventes_prod.index, ventes_prod.values)\n",
    "plt.title(\"Top 10 des produits les plus vendus\")\n",
    "plt.xticks(rotation=90)\n",
    "plt.ylabel(\"Quantité totale vendue\")\n",
    "prod_max = ventes_prod.idxmax()\n",
    "resume4 = (\n",
    "    f\"Le produit le plus vendu est **{prod_max}** avec un total de \"\n",
    "    f\"{ventes_prod.max():,.0f} unités.\"\n",
    ")\n",
    "save_fig_and_write(fig4, \"produits_vendus.png\", \"4. Produits les plus vendus\", resume4)"
   ]
  },
  {
   "cell_type": "code",
   "execution_count": null,
   "id": "da6cb9ca",
   "metadata": {},
   "outputs": [],
   "source": [
    "# ─────────────────────────────────────────────\n",
    "# 5. GRAPHIQUE 3 – VENTES PAR MOIS\n",
    "# ─────────────────────────────────────────────\n",
    "ventes_mois = database_1.groupby(\"Mois\")[\"Total_net\"].sum()\n",
    "fig3 = plt.figure(figsize=(10, 6))\n",
    "plt.bar(ventes_mois.index.astype(str), ventes_mois.values)\n",
    "plt.title(\"Ventes nettes par mois\")\n",
    "plt.xticks(rotation=45)\n",
    "plt.ylabel(\"Ventes nettes\")\n",
    "mois_max = ventes_mois.idxmax()\n",
    "resume3 = (\n",
    "    f\"Le mois le plus performant est **{mois_max}** avec \"\n",
    "    f\"{ventes_mois.max():,.0f} unités monétaires.\"\n",
    ")\n",
    "save_fig_and_write(fig3, \"ventes_mois.png\", \"3. Ventes par mois\", resume3)"
   ]
  },
  {
   "cell_type": "code",
   "execution_count": null,
   "id": "711509b4",
   "metadata": {},
   "outputs": [],
   "source": [
    "# ─────────────────────────────────────────────\n",
    "# 6. GRAPHIQUE 4 – PRODUITS LES PLUS VENDUS (TOP 10)\n",
    "# ─────────────────────────────────────────────\n",
    "ventes_prod = (\n",
    "    database_1.groupby(\"Produit\")[\"Quantité\"]\n",
    "    .sum()\n",
    "    .sort_values(ascending=False)\n",
    "    .head(10)\n",
    ")\n",
    "fig4 = plt.figure(figsize=(10, 6))\n",
    "plt.bar(ventes_prod.index, ventes_prod.values)\n",
    "plt.title(\"Top 10 des produits les plus vendus\")\n",
    "plt.xticks(rotation=90)\n",
    "plt.ylabel(\"Quantité totale vendue\")\n",
    "prod_max = ventes_prod.idxmax()\n",
    "resume4 = (\n",
    "    f\"Le produit le plus vendu est **{prod_max}** avec un total de \"\n",
    "    f\"{ventes_prod.max():,.0f} unités.\"\n",
    ")\n",
    "save_fig_and_write(fig4, \"produits_vendus.png\", \"4. Produits les plus vendus\", resume4)\n"
   ]
  },
  {
   "cell_type": "code",
   "execution_count": null,
   "id": "310a1449",
   "metadata": {},
   "outputs": [],
   "source": [
    "# ─────────────────────────────────────────────\n",
    "# 7. ENREGISTRER LE DOCUMENT\n",
    "# ─────────────────────────────────────────────\n",
    "doc.save(\"Analyse_Graphique_Ventes.docx\")\n",
    "print(\"Fichier Word 'Analyse_Graphique_Ventes.docx' créé avec succès.\")"
   ]
  }
 ],
 "metadata": {
  "kernelspec": {
   "display_name": "Python 3",
   "language": "python",
   "name": "python3"
  },
  "language_info": {
   "codemirror_mode": {
    "name": "ipython",
    "version": 3
   },
   "file_extension": ".py",
   "mimetype": "text/x-python",
   "name": "python",
   "nbconvert_exporter": "python",
   "pygments_lexer": "ipython3",
   "version": "3.13.3"
  }
 },
 "nbformat": 4,
 "nbformat_minor": 5
}
