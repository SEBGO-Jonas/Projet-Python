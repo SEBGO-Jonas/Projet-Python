{
 "cells": [
  {
   "cell_type": "markdown",
   "id": "2eb936ca",
   "metadata": {},
   "source": [
    "# Mini-Projets"
   ]
  },
  {
   "cell_type": "markdown",
   "id": "be700f83",
   "metadata": {},
   "source": [
    "## Exercice 1 : Exploration initiale"
   ]
  },
  {
   "cell_type": "code",
   "execution_count": 1,
   "id": "65578086",
   "metadata": {},
   "outputs": [],
   "source": [
    "#Charger le fichier dans un DataFrame\n",
    "import pandas as pd\n",
    "database = pd.read_csv(\"C:/Users/HP/Desktop/DATA ANALYST/5-PYTHON/Formation Python/Mini_Projet/ventes_magasin - ventes_magasin.csv.csv\")"
   ]
  },
  {
   "cell_type": "code",
   "execution_count": 2,
   "id": "51718c59",
   "metadata": {},
   "outputs": [
    {
     "data": {
      "text/html": [
       "<div>\n",
       "<style scoped>\n",
       "    .dataframe tbody tr th:only-of-type {\n",
       "        vertical-align: middle;\n",
       "    }\n",
       "\n",
       "    .dataframe tbody tr th {\n",
       "        vertical-align: top;\n",
       "    }\n",
       "\n",
       "    .dataframe thead th {\n",
       "        text-align: right;\n",
       "    }\n",
       "</style>\n",
       "<table border=\"1\" class=\"dataframe\">\n",
       "  <thead>\n",
       "    <tr style=\"text-align: right;\">\n",
       "      <th></th>\n",
       "      <th>Date</th>\n",
       "      <th>Magasin</th>\n",
       "      <th>Produit</th>\n",
       "      <th>Catégorie</th>\n",
       "      <th>Prix</th>\n",
       "      <th>Quantité</th>\n",
       "      <th>Remise (%)</th>\n",
       "    </tr>\n",
       "  </thead>\n",
       "  <tbody>\n",
       "    <tr>\n",
       "      <th>0</th>\n",
       "      <td>2024-01-01</td>\n",
       "      <td>Bukavu</td>\n",
       "      <td>Écouteurs JBL</td>\n",
       "      <td>Accessoires</td>\n",
       "      <td>866</td>\n",
       "      <td>2</td>\n",
       "      <td>NaN</td>\n",
       "    </tr>\n",
       "    <tr>\n",
       "      <th>1</th>\n",
       "      <td>2024-01-02</td>\n",
       "      <td>Goma</td>\n",
       "      <td>Imprimante Canon</td>\n",
       "      <td>Accessoires</td>\n",
       "      <td>169</td>\n",
       "      <td>2</td>\n",
       "      <td>0.0</td>\n",
       "    </tr>\n",
       "    <tr>\n",
       "      <th>2</th>\n",
       "      <td>2024-01-03</td>\n",
       "      <td>Goma</td>\n",
       "      <td>Samsung Galaxy</td>\n",
       "      <td>Accessoires</td>\n",
       "      <td>914</td>\n",
       "      <td>4</td>\n",
       "      <td>10.0</td>\n",
       "    </tr>\n",
       "    <tr>\n",
       "      <th>3</th>\n",
       "      <td>2024-01-04</td>\n",
       "      <td>Lubumbashi</td>\n",
       "      <td>Écouteurs JBL</td>\n",
       "      <td>Imprimantes</td>\n",
       "      <td>1171</td>\n",
       "      <td>2</td>\n",
       "      <td>NaN</td>\n",
       "    </tr>\n",
       "    <tr>\n",
       "      <th>4</th>\n",
       "      <td>2024-01-05</td>\n",
       "      <td>Goma</td>\n",
       "      <td>Clé USB</td>\n",
       "      <td>Ordinateurs</td>\n",
       "      <td>600</td>\n",
       "      <td>1</td>\n",
       "      <td>15.0</td>\n",
       "    </tr>\n",
       "  </tbody>\n",
       "</table>\n",
       "</div>"
      ],
      "text/plain": [
       "         Date     Magasin           Produit    Catégorie  Prix  Quantité  \\\n",
       "0  2024-01-01      Bukavu     Écouteurs JBL  Accessoires   866         2   \n",
       "1  2024-01-02        Goma  Imprimante Canon  Accessoires   169         2   \n",
       "2  2024-01-03        Goma    Samsung Galaxy  Accessoires   914         4   \n",
       "3  2024-01-04  Lubumbashi     Écouteurs JBL  Imprimantes  1171         2   \n",
       "4  2024-01-05        Goma           Clé USB  Ordinateurs   600         1   \n",
       "\n",
       "   Remise (%)  \n",
       "0         NaN  \n",
       "1         0.0  \n",
       "2        10.0  \n",
       "3         NaN  \n",
       "4        15.0  "
      ]
     },
     "execution_count": 2,
     "metadata": {},
     "output_type": "execute_result"
    }
   ],
   "source": [
    "#databaseAfficher les premières lignes \n",
    "database.head()"
   ]
  },
  {
   "cell_type": "code",
   "execution_count": 3,
   "id": "f04c7c73",
   "metadata": {},
   "outputs": [
    {
     "data": {
      "text/plain": [
       "(20, 7)"
      ]
     },
     "execution_count": 3,
     "metadata": {},
     "output_type": "execute_result"
    }
   ],
   "source": [
    "# Nombre de lignes et colonnes de la base de données\n",
    "database.shape"
   ]
  },
  {
   "cell_type": "code",
   "execution_count": 4,
   "id": "ef864327",
   "metadata": {},
   "outputs": [
    {
     "name": "stdout",
     "output_type": "stream",
     "text": [
      "<class 'pandas.core.frame.DataFrame'>\n",
      "RangeIndex: 20 entries, 0 to 19\n",
      "Data columns (total 7 columns):\n",
      " #   Column      Non-Null Count  Dtype  \n",
      "---  ------      --------------  -----  \n",
      " 0   Date        20 non-null     object \n",
      " 1   Magasin     20 non-null     object \n",
      " 2   Produit     20 non-null     object \n",
      " 3   Catégorie   20 non-null     object \n",
      " 4   Prix        20 non-null     int64  \n",
      " 5   Quantité    20 non-null     int64  \n",
      " 6   Remise (%)  15 non-null     float64\n",
      "dtypes: float64(1), int64(2), object(4)\n",
      "memory usage: 1.2+ KB\n"
     ]
    }
   ],
   "source": [
    "# Quelles sont les colonnes ? \n",
    "database.info()"
   ]
  },
  {
   "cell_type": "code",
   "execution_count": 5,
   "id": "2a7c5622",
   "metadata": {},
   "outputs": [
    {
     "data": {
      "text/plain": [
       "Index(['Date', 'Magasin', 'Produit', 'Catégorie', 'Prix', 'Quantité',\n",
       "       'Remise (%)'],\n",
       "      dtype='object')"
      ]
     },
     "execution_count": 5,
     "metadata": {},
     "output_type": "execute_result"
    }
   ],
   "source": [
    "database.columns# autres méthode pour afficher les colonnes"
   ]
  },
  {
   "cell_type": "markdown",
   "id": "34a14d8f",
   "metadata": {},
   "source": [
    "## Exercice 2 : Calculs simples"
   ]
  },
  {
   "cell_type": "code",
   "execution_count": 6,
   "id": "a4fa985c",
   "metadata": {},
   "outputs": [
    {
     "name": "stdout",
     "output_type": "stream",
     "text": [
      "          Date     Magasin           Produit    Catégorie  Prix  Quantité  Remise (%)  Total_Vente\n",
      "0   2024-01-01      Bukavu     Écouteurs JBL  Accessoires   866         2         NaN         1732\n",
      "1   2024-01-02        Goma  Imprimante Canon  Accessoires   169         2         0.0          338\n",
      "2   2024-01-03        Goma    Samsung Galaxy  Accessoires   914         4        10.0         3656\n",
      "3   2024-01-04  Lubumbashi     Écouteurs JBL  Imprimantes  1171         2         NaN         2342\n",
      "4   2024-01-05        Goma           Clé USB  Ordinateurs   600         1        15.0          600\n",
      "5   2024-01-06    Kinshasa           Clé USB  Accessoires  1285         5         0.0         6425\n",
      "6   2024-01-07  Lubumbashi    Samsung Galaxy   Téléphones   673         1        10.0          673\n",
      "7   2024-01-08        Goma           Clé USB  Ordinateurs   230         4        10.0          920\n",
      "8   2024-01-09  Lubumbashi  Imprimante Canon  Imprimantes   168         3         0.0          504\n",
      "9   2024-01-10        Goma     Écouteurs JBL   Téléphones   104         3        15.0          312\n",
      "10  2024-01-11  Lubumbashi  Imprimante Canon   Téléphones   469         5         NaN         2345\n",
      "11  2024-01-12      Bukavu  Imprimante Canon  Imprimantes  1033         1        15.0         1033\n",
      "12  2024-01-13        Goma  Imprimante Canon  Accessoires   191         5        15.0          955\n",
      "13  2024-01-14      Bukavu  Imprimante Canon  Ordinateurs  1380         5         NaN         6900\n",
      "14  2024-01-15    Kinshasa    Samsung Galaxy   Téléphones   298         4         0.0         1192\n",
      "15  2024-01-16  Lubumbashi     Écouteurs JBL  Accessoires  1348         1        10.0         1348\n",
      "16  2024-01-17  Lubumbashi  Imprimante Canon   Téléphones  1336         2         0.0         2672\n",
      "17  2024-01-18      Bukavu         Laptop HP  Accessoires  1265         1         NaN         1265\n",
      "18  2024-01-19    Kinshasa           Clé USB   Téléphones   890         1         0.0          890\n",
      "19  2024-01-20        Goma           Clé USB   Téléphones  1059         1         5.0         1059\n"
     ]
    }
   ],
   "source": [
    "# Créer une nouvelle base de données avec la colonne Total_Vente “Total_Vente” = Prix × Quantité \n",
    "database_1 = database.copy()\n",
    "database_1[\"Total_Vente\"] = database_1[\"Prix\"] * database_1[\"Quantité\"]\n",
    "pd.set_option('display.max_columns', None)     # Affiche toutes les colonnes\n",
    "pd.set_option('display.expand_frame_repr', False)  # Empêche les retours à la ligne\n",
    "pd.set_option('display.width', 0)  \n",
    "print(database_1)"
   ]
  },
  {
   "cell_type": "code",
   "execution_count": 7,
   "id": "3724a732",
   "metadata": {},
   "outputs": [
    {
     "name": "stdout",
     "output_type": "stream",
     "text": [
      "          Date     Magasin           Produit    Catégorie  Prix  Quantité  Remise (%)  Total_Vente  Prix_net\n",
      "0   2024-01-01      Bukavu     Écouteurs JBL  Accessoires   866         2         NaN         1732    866.00\n",
      "1   2024-01-02        Goma  Imprimante Canon  Accessoires   169         2         0.0          338    169.00\n",
      "2   2024-01-03        Goma    Samsung Galaxy  Accessoires   914         4        10.0         3656    822.60\n",
      "3   2024-01-04  Lubumbashi     Écouteurs JBL  Imprimantes  1171         2         NaN         2342   1171.00\n",
      "4   2024-01-05        Goma           Clé USB  Ordinateurs   600         1        15.0          600    510.00\n",
      "5   2024-01-06    Kinshasa           Clé USB  Accessoires  1285         5         0.0         6425   1285.00\n",
      "6   2024-01-07  Lubumbashi    Samsung Galaxy   Téléphones   673         1        10.0          673    605.70\n",
      "7   2024-01-08        Goma           Clé USB  Ordinateurs   230         4        10.0          920    207.00\n",
      "8   2024-01-09  Lubumbashi  Imprimante Canon  Imprimantes   168         3         0.0          504    168.00\n",
      "9   2024-01-10        Goma     Écouteurs JBL   Téléphones   104         3        15.0          312     88.40\n",
      "10  2024-01-11  Lubumbashi  Imprimante Canon   Téléphones   469         5         NaN         2345    469.00\n",
      "11  2024-01-12      Bukavu  Imprimante Canon  Imprimantes  1033         1        15.0         1033    878.05\n",
      "12  2024-01-13        Goma  Imprimante Canon  Accessoires   191         5        15.0          955    162.35\n",
      "13  2024-01-14      Bukavu  Imprimante Canon  Ordinateurs  1380         5         NaN         6900   1380.00\n",
      "14  2024-01-15    Kinshasa    Samsung Galaxy   Téléphones   298         4         0.0         1192    298.00\n",
      "15  2024-01-16  Lubumbashi     Écouteurs JBL  Accessoires  1348         1        10.0         1348   1213.20\n",
      "16  2024-01-17  Lubumbashi  Imprimante Canon   Téléphones  1336         2         0.0         2672   1336.00\n",
      "17  2024-01-18      Bukavu         Laptop HP  Accessoires  1265         1         NaN         1265   1265.00\n",
      "18  2024-01-19    Kinshasa           Clé USB   Téléphones   890         1         0.0          890    890.00\n",
      "19  2024-01-20        Goma           Clé USB   Téléphones  1059         1         5.0         1059   1006.05\n"
     ]
    }
   ],
   "source": [
    "# Ajouter la colonne Prix_net après remise\n",
    "database_1[\"Prix_net\"] = database_1[\"Prix\"] * (1 - database_1[\"Remise (%)\"].fillna(0) / 100)\n",
    "print(database_1)"
   ]
  },
  {
   "cell_type": "code",
   "execution_count": 8,
   "id": "3fcdea40",
   "metadata": {},
   "outputs": [
    {
     "name": "stdout",
     "output_type": "stream",
     "text": [
      "          Date     Magasin           Produit    Catégorie  Prix  Quantité  Remise (%)  Total_Vente  Prix_net\n",
      "0   2024-01-01      Bukavu     Écouteurs JBL  Accessoires   866         2         0.0         1732    866.00\n",
      "1   2024-01-02        Goma  Imprimante Canon  Accessoires   169         2         0.0          338    169.00\n",
      "2   2024-01-03        Goma    Samsung Galaxy  Accessoires   914         4        10.0         3656    822.60\n",
      "3   2024-01-04  Lubumbashi     Écouteurs JBL  Imprimantes  1171         2         0.0         2342   1171.00\n",
      "4   2024-01-05        Goma           Clé USB  Ordinateurs   600         1        15.0          600    510.00\n",
      "5   2024-01-06    Kinshasa           Clé USB  Accessoires  1285         5         0.0         6425   1285.00\n",
      "6   2024-01-07  Lubumbashi    Samsung Galaxy   Téléphones   673         1        10.0          673    605.70\n",
      "7   2024-01-08        Goma           Clé USB  Ordinateurs   230         4        10.0          920    207.00\n",
      "8   2024-01-09  Lubumbashi  Imprimante Canon  Imprimantes   168         3         0.0          504    168.00\n",
      "9   2024-01-10        Goma     Écouteurs JBL   Téléphones   104         3        15.0          312     88.40\n",
      "10  2024-01-11  Lubumbashi  Imprimante Canon   Téléphones   469         5         0.0         2345    469.00\n",
      "11  2024-01-12      Bukavu  Imprimante Canon  Imprimantes  1033         1        15.0         1033    878.05\n",
      "12  2024-01-13        Goma  Imprimante Canon  Accessoires   191         5        15.0          955    162.35\n",
      "13  2024-01-14      Bukavu  Imprimante Canon  Ordinateurs  1380         5         0.0         6900   1380.00\n",
      "14  2024-01-15    Kinshasa    Samsung Galaxy   Téléphones   298         4         0.0         1192    298.00\n",
      "15  2024-01-16  Lubumbashi     Écouteurs JBL  Accessoires  1348         1        10.0         1348   1213.20\n",
      "16  2024-01-17  Lubumbashi  Imprimante Canon   Téléphones  1336         2         0.0         2672   1336.00\n",
      "17  2024-01-18      Bukavu         Laptop HP  Accessoires  1265         1         0.0         1265   1265.00\n",
      "18  2024-01-19    Kinshasa           Clé USB   Téléphones   890         1         0.0          890    890.00\n",
      "19  2024-01-20        Goma           Clé USB   Téléphones  1059         1         5.0         1059   1006.05\n"
     ]
    }
   ],
   "source": [
    "# Traitement des valeurs manquantes \n",
    "database_1[\"Remise (%)\"] = database_1[\"Remise (%)\"].fillna(0)\n",
    "print(database_1)"
   ]
  },
  {
   "cell_type": "code",
   "execution_count": 9,
   "id": "81219e18",
   "metadata": {},
   "outputs": [
    {
     "name": "stdout",
     "output_type": "stream",
     "text": [
      "          Date     Magasin           Produit    Catégorie  Prix  Quantité  Remise (%)  Total_Vente  Prix_net\n",
      "13  2024-01-14      Bukavu  Imprimante Canon  Ordinateurs  1380         5         0.0         6900   1380.00\n",
      "5   2024-01-06    Kinshasa           Clé USB  Accessoires  1285         5         0.0         6425   1285.00\n",
      "2   2024-01-03        Goma    Samsung Galaxy  Accessoires   914         4        10.0         3656    822.60\n",
      "16  2024-01-17  Lubumbashi  Imprimante Canon   Téléphones  1336         2         0.0         2672   1336.00\n",
      "10  2024-01-11  Lubumbashi  Imprimante Canon   Téléphones   469         5         0.0         2345    469.00\n",
      "3   2024-01-04  Lubumbashi     Écouteurs JBL  Imprimantes  1171         2         0.0         2342   1171.00\n",
      "0   2024-01-01      Bukavu     Écouteurs JBL  Accessoires   866         2         0.0         1732    866.00\n",
      "15  2024-01-16  Lubumbashi     Écouteurs JBL  Accessoires  1348         1        10.0         1348   1213.20\n",
      "17  2024-01-18      Bukavu         Laptop HP  Accessoires  1265         1         0.0         1265   1265.00\n",
      "14  2024-01-15    Kinshasa    Samsung Galaxy   Téléphones   298         4         0.0         1192    298.00\n",
      "19  2024-01-20        Goma           Clé USB   Téléphones  1059         1         5.0         1059   1006.05\n",
      "11  2024-01-12      Bukavu  Imprimante Canon  Imprimantes  1033         1        15.0         1033    878.05\n",
      "12  2024-01-13        Goma  Imprimante Canon  Accessoires   191         5        15.0          955    162.35\n",
      "7   2024-01-08        Goma           Clé USB  Ordinateurs   230         4        10.0          920    207.00\n",
      "18  2024-01-19    Kinshasa           Clé USB   Téléphones   890         1         0.0          890    890.00\n",
      "6   2024-01-07  Lubumbashi    Samsung Galaxy   Téléphones   673         1        10.0          673    605.70\n",
      "4   2024-01-05        Goma           Clé USB  Ordinateurs   600         1        15.0          600    510.00\n",
      "8   2024-01-09  Lubumbashi  Imprimante Canon  Imprimantes   168         3         0.0          504    168.00\n",
      "1   2024-01-02        Goma  Imprimante Canon  Accessoires   169         2         0.0          338    169.00\n",
      "9   2024-01-10        Goma     Écouteurs JBL   Téléphones   104         3        15.0          312     88.40\n"
     ]
    }
   ],
   "source": [
    "# Trier les ventes du plus grand au plus petit chiffre d'affaires \n",
    "database_1 = database_1.sort_values(by=\"Total_Vente\", ascending=False)\n",
    "print(database_1)"
   ]
  },
  {
   "cell_type": "code",
   "execution_count": 10,
   "id": "5f632e28",
   "metadata": {},
   "outputs": [],
   "source": [
    "# Importer la base de données en fichier Excel\n",
    "database_1.to_excel(\"Ventes_magasin.xlsx\", index=False)"
   ]
  },
  {
   "cell_type": "markdown",
   "id": "e773fe16",
   "metadata": {},
   "source": [
    "## Exercice 3 : Analyse par magasin"
   ]
  },
  {
   "cell_type": "code",
   "execution_count": 11,
   "id": "56916fed",
   "metadata": {},
   "outputs": [
    {
     "name": "stdout",
     "output_type": "stream",
     "text": [
      "Magasin\n",
      "Bukavu    10930\n",
      "Name: Total_Vente, dtype: int64\n"
     ]
    }
   ],
   "source": [
    "# le magasin qui a vendu le plus\n",
    "vente_par_magasin = database_1.groupby(\"Magasin\")[\"Total_Vente\"].sum().sort_values(ascending=False)\n",
    "print(vente_par_magasin.head(1))"
   ]
  },
  {
   "cell_type": "code",
   "execution_count": 12,
   "id": "12d5deb9",
   "metadata": {},
   "outputs": [
    {
     "name": "stdout",
     "output_type": "stream",
     "text": [
      "Magasin\n",
      "Bukavu        10930\n",
      "Lubumbashi     9884\n",
      "Kinshasa       8507\n",
      "Goma           7840\n",
      "Name: Total_Vente, dtype: int64\n"
     ]
    }
   ],
   "source": [
    "# Chiffre d'affaire par magasin\n",
    "vente_par_magasin = database_1.groupby(\"Magasin\")[\"Total_Vente\"].sum().sort_values(ascending=False)\n",
    "print(vente_par_magasin)"
   ]
  },
  {
   "cell_type": "code",
   "execution_count": 13,
   "id": "4f802c44",
   "metadata": {},
   "outputs": [
    {
     "name": "stdout",
     "output_type": "stream",
     "text": [
      "Produit\n",
      "Clé USB           6\n",
      "Samsung Galaxy    4\n",
      "Name: Quantité, dtype: int64\n"
     ]
    }
   ],
   "source": [
    "# Quel produit est le plus vendu à Kinshasa \n",
    "ventes_kinshasa = database_1[database_1[\"Magasin\"] == \"Kinshasa\"]\n",
    "produit_plus_vendu = ventes_kinshasa.groupby(\"Produit\")[\"Quantité\"].sum().sort_values(ascending=False)\n",
    "print(produit_plus_vendu)"
   ]
  },
  {
   "cell_type": "markdown",
   "id": "bddf74d1",
   "metadata": {},
   "source": [
    "## Exercice 4 : Valeurs manquantes"
   ]
  },
  {
   "cell_type": "code",
   "execution_count": 14,
   "id": "be9a2e4b",
   "metadata": {},
   "outputs": [
    {
     "name": "stdout",
     "output_type": "stream",
     "text": [
      "          Date     Magasin           Produit    Catégorie  Prix  Quantité  Remise (%)  Total_Vente  Prix_net\n",
      "13  2024-01-14      Bukavu  Imprimante Canon  Ordinateurs  1380         5         0.0         6900   1380.00\n",
      "5   2024-01-06    Kinshasa           Clé USB  Accessoires  1285         5         0.0         6425   1285.00\n",
      "2   2024-01-03        Goma    Samsung Galaxy  Accessoires   914         4        10.0         3656    822.60\n",
      "16  2024-01-17  Lubumbashi  Imprimante Canon   Téléphones  1336         2         0.0         2672   1336.00\n",
      "10  2024-01-11  Lubumbashi  Imprimante Canon   Téléphones   469         5         0.0         2345    469.00\n",
      "3   2024-01-04  Lubumbashi     Écouteurs JBL  Imprimantes  1171         2         0.0         2342   1171.00\n",
      "0   2024-01-01      Bukavu     Écouteurs JBL  Accessoires   866         2         0.0         1732    866.00\n",
      "15  2024-01-16  Lubumbashi     Écouteurs JBL  Accessoires  1348         1        10.0         1348   1213.20\n",
      "17  2024-01-18      Bukavu         Laptop HP  Accessoires  1265         1         0.0         1265   1265.00\n",
      "14  2024-01-15    Kinshasa    Samsung Galaxy   Téléphones   298         4         0.0         1192    298.00\n",
      "19  2024-01-20        Goma           Clé USB   Téléphones  1059         1         5.0         1059   1006.05\n",
      "11  2024-01-12      Bukavu  Imprimante Canon  Imprimantes  1033         1        15.0         1033    878.05\n",
      "12  2024-01-13        Goma  Imprimante Canon  Accessoires   191         5        15.0          955    162.35\n",
      "7   2024-01-08        Goma           Clé USB  Ordinateurs   230         4        10.0          920    207.00\n",
      "18  2024-01-19    Kinshasa           Clé USB   Téléphones   890         1         0.0          890    890.00\n",
      "6   2024-01-07  Lubumbashi    Samsung Galaxy   Téléphones   673         1        10.0          673    605.70\n",
      "4   2024-01-05        Goma           Clé USB  Ordinateurs   600         1        15.0          600    510.00\n",
      "8   2024-01-09  Lubumbashi  Imprimante Canon  Imprimantes   168         3         0.0          504    168.00\n",
      "1   2024-01-02        Goma  Imprimante Canon  Accessoires   169         2         0.0          338    169.00\n",
      "9   2024-01-10        Goma     Écouteurs JBL   Téléphones   104         3        15.0          312     88.40\n"
     ]
    }
   ],
   "source": [
    "# Simuler des valeurs manquantes dans \"Remise (%)\" \n",
    "database_1[\"Remise (%)\"] = database_1[\"Remise (%)\"].fillna(5) # en supposant que la remise est de 5%\n",
    "print(database_1)"
   ]
  },
  {
   "cell_type": "code",
   "execution_count": 15,
   "id": "e8119413",
   "metadata": {},
   "outputs": [
    {
     "name": "stdout",
     "output_type": "stream",
     "text": [
      "          Date     Magasin           Produit    Catégorie  Prix  Quantité  Remise (%)  Total_Vente  Prix_net\n",
      "13  2024-01-14      Bukavu  Imprimante Canon  Ordinateurs  1380         5         0.0         6900   1380.00\n",
      "5   2024-01-06    Kinshasa           Clé USB  Accessoires  1285         5         0.0         6425   1285.00\n",
      "2   2024-01-03        Goma    Samsung Galaxy  Accessoires   914         4        10.0         3656    822.60\n",
      "16  2024-01-17  Lubumbashi  Imprimante Canon   Téléphones  1336         2         0.0         2672   1336.00\n",
      "10  2024-01-11  Lubumbashi  Imprimante Canon   Téléphones   469         5         0.0         2345    469.00\n",
      "3   2024-01-04  Lubumbashi     Écouteurs JBL  Imprimantes  1171         2         0.0         2342   1171.00\n",
      "0   2024-01-01      Bukavu     Écouteurs JBL  Accessoires   866         2         0.0         1732    866.00\n",
      "15  2024-01-16  Lubumbashi     Écouteurs JBL  Accessoires  1348         1        10.0         1348   1213.20\n",
      "17  2024-01-18      Bukavu         Laptop HP  Accessoires  1265         1         0.0         1265   1265.00\n",
      "14  2024-01-15    Kinshasa    Samsung Galaxy   Téléphones   298         4         0.0         1192    298.00\n",
      "19  2024-01-20        Goma           Clé USB   Téléphones  1059         1         5.0         1059   1006.05\n",
      "11  2024-01-12      Bukavu  Imprimante Canon  Imprimantes  1033         1        15.0         1033    878.05\n",
      "12  2024-01-13        Goma  Imprimante Canon  Accessoires   191         5        15.0          955    162.35\n",
      "7   2024-01-08        Goma           Clé USB  Ordinateurs   230         4        10.0          920    207.00\n",
      "18  2024-01-19    Kinshasa           Clé USB   Téléphones   890         1         0.0          890    890.00\n",
      "6   2024-01-07  Lubumbashi    Samsung Galaxy   Téléphones   673         1        10.0          673    605.70\n",
      "4   2024-01-05        Goma           Clé USB  Ordinateurs   600         1        15.0          600    510.00\n",
      "8   2024-01-09  Lubumbashi  Imprimante Canon  Imprimantes   168         3         0.0          504    168.00\n",
      "1   2024-01-02        Goma  Imprimante Canon  Accessoires   169         2         0.0          338    169.00\n",
      "9   2024-01-10        Goma     Écouteurs JBL   Téléphones   104         3        15.0          312     88.40\n"
     ]
    }
   ],
   "source": [
    "# ● Remplacer les valeurs manquantes par la moyenne\n",
    "remise_moyen = database_1[\"Remise (%)\"].mean() # Calcul de la moyenne (en ignorant les NaN)\n",
    "database_1[\"Remise (%)\"] = database_1[\"Remise (%)\"].fillna(remise_moyen) # Remplacement des NaN par la moyenne\n",
    "print(database_1)"
   ]
  },
  {
   "cell_type": "code",
   "execution_count": 16,
   "id": "310cebc7",
   "metadata": {},
   "outputs": [
    {
     "data": {
      "text/plain": [
       "Date            object\n",
       "Magasin         object\n",
       "Produit         object\n",
       "Catégorie       object\n",
       "Prix             int64\n",
       "Quantité         int64\n",
       "Remise (%)     float64\n",
       "Total_Vente      int64\n",
       "Prix_net       float64\n",
       "dtype: object"
      ]
     },
     "execution_count": 16,
     "metadata": {},
     "output_type": "execute_result"
    }
   ],
   "source": [
    "#Vérifier les types de chaque colonne après\n",
    "database_1.dtypes"
   ]
  },
  {
   "cell_type": "code",
   "execution_count": 17,
   "id": "dcc2bf1a",
   "metadata": {},
   "outputs": [
    {
     "name": "stdout",
     "output_type": "stream",
     "text": [
      "<class 'pandas.core.frame.DataFrame'>\n",
      "Index: 20 entries, 13 to 9\n",
      "Data columns (total 9 columns):\n",
      " #   Column       Non-Null Count  Dtype  \n",
      "---  ------       --------------  -----  \n",
      " 0   Date         20 non-null     object \n",
      " 1   Magasin      20 non-null     object \n",
      " 2   Produit      20 non-null     object \n",
      " 3   Catégorie    20 non-null     object \n",
      " 4   Prix         20 non-null     int64  \n",
      " 5   Quantité     20 non-null     int64  \n",
      " 6   Remise (%)   20 non-null     float64\n",
      " 7   Total_Vente  20 non-null     int64  \n",
      " 8   Prix_net     20 non-null     float64\n",
      "dtypes: float64(2), int64(3), object(4)\n",
      "memory usage: 1.6+ KB\n"
     ]
    }
   ],
   "source": [
    "#Vérifier les types de chaque colonne après\n",
    "database_1.info()"
   ]
  },
  {
   "cell_type": "markdown",
   "id": "be4eabd0",
   "metadata": {},
   "source": [
    "## Exercice 5 : GroupBy avancé"
   ]
  },
  {
   "cell_type": "code",
   "execution_count": 18,
   "id": "74492202",
   "metadata": {},
   "outputs": [
    {
     "name": "stdout",
     "output_type": "stream",
     "text": [
      "Catégorie\n",
      "Accessoires    862.571429\n",
      "Imprimantes    790.666667\n",
      "Ordinateurs    736.666667\n",
      "Téléphones     689.857143\n",
      "Name: Prix, dtype: float64\n"
     ]
    }
   ],
   "source": [
    "# Moyenne de prix par catégorie \n",
    "moyenne_prix_par_categorie = database_1.groupby(\"Catégorie\")[\"Prix\"].mean()\n",
    "print(moyenne_prix_par_categorie)"
   ]
  },
  {
   "cell_type": "code",
   "execution_count": 19,
   "id": "64e6b4fe",
   "metadata": {},
   "outputs": [
    {
     "name": "stdout",
     "output_type": "stream",
     "text": [
      "Mois\n",
      "2024-01    37161\n",
      "Freq: M, Name: Total_Vente, dtype: int64\n"
     ]
    }
   ],
   "source": [
    "# Total des ventes par mois \n",
    "database_1[\"Date\"] = pd.to_datetime(database_1[\"Date\"]) # convertir la colonne \"Date\" en format datetime\n",
    "database_1[\"Mois\"] = database_1[\"Date\"].dt.to_period(\"M\") # extraire le mois (année-mois)\n",
    "total_par_mois = database_1.groupby(\"Mois\")[\"Total_Vente\"].sum() # total des ventes par mois\n",
    "print(total_par_mois)"
   ]
  },
  {
   "cell_type": "code",
   "execution_count": 20,
   "id": "39c23abe",
   "metadata": {},
   "outputs": [
    {
     "name": "stdout",
     "output_type": "stream",
     "text": [
      "Produit\n",
      "Clé USB             12\n",
      "Imprimante Canon    23\n",
      "Laptop HP            1\n",
      "Samsung Galaxy       9\n",
      "Écouteurs JBL        8\n",
      "Name: Quantité, dtype: int64\n"
     ]
    }
   ],
   "source": [
    "# Nombre de ventes par produit\n",
    "ventes_par_produit = database_1.groupby(\"Produit\")[\"Quantité\"].sum()# Nombre total d’unités vendues par produit\n",
    "print(ventes_par_produit)"
   ]
  },
  {
   "cell_type": "code",
   "execution_count": 21,
   "id": "40d9e575",
   "metadata": {},
   "outputs": [
    {
     "name": "stdout",
     "output_type": "stream",
     "text": [
      "Produit\n",
      "Imprimante Canon    7\n",
      "Clé USB             5\n",
      "Écouteurs JBL       4\n",
      "Samsung Galaxy      3\n",
      "Laptop HP           1\n",
      "Name: count, dtype: int64\n"
     ]
    }
   ],
   "source": [
    "# le nombre d’opérations (lignes de vente) par produit :\n",
    "nombre_lignes_par_produit = database_1[\"Produit\"].value_counts()\n",
    "print(nombre_lignes_par_produit)"
   ]
  },
  {
   "cell_type": "markdown",
   "id": "956ff9a2",
   "metadata": {},
   "source": [
    "## VISUALISATION"
   ]
  },
  {
   "cell_type": "markdown",
   "id": "6139bc6c",
   "metadata": {},
   "source": [
    "# Représenter graphiquement les ventes par magasin"
   ]
  },
  {
   "cell_type": "code",
   "execution_count": 22,
   "id": "fa813c1f",
   "metadata": {},
   "outputs": [],
   "source": [
    "# Importation des bibliothèques seaborn, numpy et matplotlib\n",
    "import seaborn as sns \n",
    "import numpy as np \n",
    "import matplotlib.pyplot as plt "
   ]
  },
  {
   "cell_type": "code",
   "execution_count": 23,
   "id": "6b0ed621",
   "metadata": {},
   "outputs": [
    {
     "data": {
      "text/html": [
       "<div>\n",
       "<style scoped>\n",
       "    .dataframe tbody tr th:only-of-type {\n",
       "        vertical-align: middle;\n",
       "    }\n",
       "\n",
       "    .dataframe tbody tr th {\n",
       "        vertical-align: top;\n",
       "    }\n",
       "\n",
       "    .dataframe thead th {\n",
       "        text-align: right;\n",
       "    }\n",
       "</style>\n",
       "<table border=\"1\" class=\"dataframe\">\n",
       "  <thead>\n",
       "    <tr style=\"text-align: right;\">\n",
       "      <th></th>\n",
       "      <th>Date</th>\n",
       "      <th>Magasin</th>\n",
       "      <th>Produit</th>\n",
       "      <th>Catégorie</th>\n",
       "      <th>Prix</th>\n",
       "      <th>Quantité</th>\n",
       "      <th>Remise (%)</th>\n",
       "      <th>Total_Vente</th>\n",
       "      <th>Prix_net</th>\n",
       "      <th>Mois</th>\n",
       "      <th>Total_net</th>\n",
       "    </tr>\n",
       "  </thead>\n",
       "  <tbody>\n",
       "    <tr>\n",
       "      <th>13</th>\n",
       "      <td>2024-01-14</td>\n",
       "      <td>Bukavu</td>\n",
       "      <td>Imprimante Canon</td>\n",
       "      <td>Ordinateurs</td>\n",
       "      <td>1380</td>\n",
       "      <td>5</td>\n",
       "      <td>0.0</td>\n",
       "      <td>6900</td>\n",
       "      <td>1380.00</td>\n",
       "      <td>2024-01</td>\n",
       "      <td>6900.00</td>\n",
       "    </tr>\n",
       "    <tr>\n",
       "      <th>5</th>\n",
       "      <td>2024-01-06</td>\n",
       "      <td>Kinshasa</td>\n",
       "      <td>Clé USB</td>\n",
       "      <td>Accessoires</td>\n",
       "      <td>1285</td>\n",
       "      <td>5</td>\n",
       "      <td>0.0</td>\n",
       "      <td>6425</td>\n",
       "      <td>1285.00</td>\n",
       "      <td>2024-01</td>\n",
       "      <td>6425.00</td>\n",
       "    </tr>\n",
       "    <tr>\n",
       "      <th>2</th>\n",
       "      <td>2024-01-03</td>\n",
       "      <td>Goma</td>\n",
       "      <td>Samsung Galaxy</td>\n",
       "      <td>Accessoires</td>\n",
       "      <td>914</td>\n",
       "      <td>4</td>\n",
       "      <td>10.0</td>\n",
       "      <td>3656</td>\n",
       "      <td>822.60</td>\n",
       "      <td>2024-01</td>\n",
       "      <td>3290.40</td>\n",
       "    </tr>\n",
       "    <tr>\n",
       "      <th>16</th>\n",
       "      <td>2024-01-17</td>\n",
       "      <td>Lubumbashi</td>\n",
       "      <td>Imprimante Canon</td>\n",
       "      <td>Téléphones</td>\n",
       "      <td>1336</td>\n",
       "      <td>2</td>\n",
       "      <td>0.0</td>\n",
       "      <td>2672</td>\n",
       "      <td>1336.00</td>\n",
       "      <td>2024-01</td>\n",
       "      <td>2672.00</td>\n",
       "    </tr>\n",
       "    <tr>\n",
       "      <th>10</th>\n",
       "      <td>2024-01-11</td>\n",
       "      <td>Lubumbashi</td>\n",
       "      <td>Imprimante Canon</td>\n",
       "      <td>Téléphones</td>\n",
       "      <td>469</td>\n",
       "      <td>5</td>\n",
       "      <td>0.0</td>\n",
       "      <td>2345</td>\n",
       "      <td>469.00</td>\n",
       "      <td>2024-01</td>\n",
       "      <td>2345.00</td>\n",
       "    </tr>\n",
       "    <tr>\n",
       "      <th>3</th>\n",
       "      <td>2024-01-04</td>\n",
       "      <td>Lubumbashi</td>\n",
       "      <td>Écouteurs JBL</td>\n",
       "      <td>Imprimantes</td>\n",
       "      <td>1171</td>\n",
       "      <td>2</td>\n",
       "      <td>0.0</td>\n",
       "      <td>2342</td>\n",
       "      <td>1171.00</td>\n",
       "      <td>2024-01</td>\n",
       "      <td>2342.00</td>\n",
       "    </tr>\n",
       "    <tr>\n",
       "      <th>0</th>\n",
       "      <td>2024-01-01</td>\n",
       "      <td>Bukavu</td>\n",
       "      <td>Écouteurs JBL</td>\n",
       "      <td>Accessoires</td>\n",
       "      <td>866</td>\n",
       "      <td>2</td>\n",
       "      <td>0.0</td>\n",
       "      <td>1732</td>\n",
       "      <td>866.00</td>\n",
       "      <td>2024-01</td>\n",
       "      <td>1732.00</td>\n",
       "    </tr>\n",
       "    <tr>\n",
       "      <th>15</th>\n",
       "      <td>2024-01-16</td>\n",
       "      <td>Lubumbashi</td>\n",
       "      <td>Écouteurs JBL</td>\n",
       "      <td>Accessoires</td>\n",
       "      <td>1348</td>\n",
       "      <td>1</td>\n",
       "      <td>10.0</td>\n",
       "      <td>1348</td>\n",
       "      <td>1213.20</td>\n",
       "      <td>2024-01</td>\n",
       "      <td>1213.20</td>\n",
       "    </tr>\n",
       "    <tr>\n",
       "      <th>17</th>\n",
       "      <td>2024-01-18</td>\n",
       "      <td>Bukavu</td>\n",
       "      <td>Laptop HP</td>\n",
       "      <td>Accessoires</td>\n",
       "      <td>1265</td>\n",
       "      <td>1</td>\n",
       "      <td>0.0</td>\n",
       "      <td>1265</td>\n",
       "      <td>1265.00</td>\n",
       "      <td>2024-01</td>\n",
       "      <td>1265.00</td>\n",
       "    </tr>\n",
       "    <tr>\n",
       "      <th>14</th>\n",
       "      <td>2024-01-15</td>\n",
       "      <td>Kinshasa</td>\n",
       "      <td>Samsung Galaxy</td>\n",
       "      <td>Téléphones</td>\n",
       "      <td>298</td>\n",
       "      <td>4</td>\n",
       "      <td>0.0</td>\n",
       "      <td>1192</td>\n",
       "      <td>298.00</td>\n",
       "      <td>2024-01</td>\n",
       "      <td>1192.00</td>\n",
       "    </tr>\n",
       "    <tr>\n",
       "      <th>19</th>\n",
       "      <td>2024-01-20</td>\n",
       "      <td>Goma</td>\n",
       "      <td>Clé USB</td>\n",
       "      <td>Téléphones</td>\n",
       "      <td>1059</td>\n",
       "      <td>1</td>\n",
       "      <td>5.0</td>\n",
       "      <td>1059</td>\n",
       "      <td>1006.05</td>\n",
       "      <td>2024-01</td>\n",
       "      <td>1006.05</td>\n",
       "    </tr>\n",
       "    <tr>\n",
       "      <th>11</th>\n",
       "      <td>2024-01-12</td>\n",
       "      <td>Bukavu</td>\n",
       "      <td>Imprimante Canon</td>\n",
       "      <td>Imprimantes</td>\n",
       "      <td>1033</td>\n",
       "      <td>1</td>\n",
       "      <td>15.0</td>\n",
       "      <td>1033</td>\n",
       "      <td>878.05</td>\n",
       "      <td>2024-01</td>\n",
       "      <td>878.05</td>\n",
       "    </tr>\n",
       "    <tr>\n",
       "      <th>12</th>\n",
       "      <td>2024-01-13</td>\n",
       "      <td>Goma</td>\n",
       "      <td>Imprimante Canon</td>\n",
       "      <td>Accessoires</td>\n",
       "      <td>191</td>\n",
       "      <td>5</td>\n",
       "      <td>15.0</td>\n",
       "      <td>955</td>\n",
       "      <td>162.35</td>\n",
       "      <td>2024-01</td>\n",
       "      <td>811.75</td>\n",
       "    </tr>\n",
       "    <tr>\n",
       "      <th>7</th>\n",
       "      <td>2024-01-08</td>\n",
       "      <td>Goma</td>\n",
       "      <td>Clé USB</td>\n",
       "      <td>Ordinateurs</td>\n",
       "      <td>230</td>\n",
       "      <td>4</td>\n",
       "      <td>10.0</td>\n",
       "      <td>920</td>\n",
       "      <td>207.00</td>\n",
       "      <td>2024-01</td>\n",
       "      <td>828.00</td>\n",
       "    </tr>\n",
       "    <tr>\n",
       "      <th>18</th>\n",
       "      <td>2024-01-19</td>\n",
       "      <td>Kinshasa</td>\n",
       "      <td>Clé USB</td>\n",
       "      <td>Téléphones</td>\n",
       "      <td>890</td>\n",
       "      <td>1</td>\n",
       "      <td>0.0</td>\n",
       "      <td>890</td>\n",
       "      <td>890.00</td>\n",
       "      <td>2024-01</td>\n",
       "      <td>890.00</td>\n",
       "    </tr>\n",
       "    <tr>\n",
       "      <th>6</th>\n",
       "      <td>2024-01-07</td>\n",
       "      <td>Lubumbashi</td>\n",
       "      <td>Samsung Galaxy</td>\n",
       "      <td>Téléphones</td>\n",
       "      <td>673</td>\n",
       "      <td>1</td>\n",
       "      <td>10.0</td>\n",
       "      <td>673</td>\n",
       "      <td>605.70</td>\n",
       "      <td>2024-01</td>\n",
       "      <td>605.70</td>\n",
       "    </tr>\n",
       "    <tr>\n",
       "      <th>4</th>\n",
       "      <td>2024-01-05</td>\n",
       "      <td>Goma</td>\n",
       "      <td>Clé USB</td>\n",
       "      <td>Ordinateurs</td>\n",
       "      <td>600</td>\n",
       "      <td>1</td>\n",
       "      <td>15.0</td>\n",
       "      <td>600</td>\n",
       "      <td>510.00</td>\n",
       "      <td>2024-01</td>\n",
       "      <td>510.00</td>\n",
       "    </tr>\n",
       "    <tr>\n",
       "      <th>8</th>\n",
       "      <td>2024-01-09</td>\n",
       "      <td>Lubumbashi</td>\n",
       "      <td>Imprimante Canon</td>\n",
       "      <td>Imprimantes</td>\n",
       "      <td>168</td>\n",
       "      <td>3</td>\n",
       "      <td>0.0</td>\n",
       "      <td>504</td>\n",
       "      <td>168.00</td>\n",
       "      <td>2024-01</td>\n",
       "      <td>504.00</td>\n",
       "    </tr>\n",
       "    <tr>\n",
       "      <th>1</th>\n",
       "      <td>2024-01-02</td>\n",
       "      <td>Goma</td>\n",
       "      <td>Imprimante Canon</td>\n",
       "      <td>Accessoires</td>\n",
       "      <td>169</td>\n",
       "      <td>2</td>\n",
       "      <td>0.0</td>\n",
       "      <td>338</td>\n",
       "      <td>169.00</td>\n",
       "      <td>2024-01</td>\n",
       "      <td>338.00</td>\n",
       "    </tr>\n",
       "    <tr>\n",
       "      <th>9</th>\n",
       "      <td>2024-01-10</td>\n",
       "      <td>Goma</td>\n",
       "      <td>Écouteurs JBL</td>\n",
       "      <td>Téléphones</td>\n",
       "      <td>104</td>\n",
       "      <td>3</td>\n",
       "      <td>15.0</td>\n",
       "      <td>312</td>\n",
       "      <td>88.40</td>\n",
       "      <td>2024-01</td>\n",
       "      <td>265.20</td>\n",
       "    </tr>\n",
       "  </tbody>\n",
       "</table>\n",
       "</div>"
      ],
      "text/plain": [
       "         Date     Magasin           Produit    Catégorie  Prix  Quantité  Remise (%)  Total_Vente  Prix_net     Mois  Total_net\n",
       "13 2024-01-14      Bukavu  Imprimante Canon  Ordinateurs  1380         5         0.0         6900   1380.00  2024-01    6900.00\n",
       "5  2024-01-06    Kinshasa           Clé USB  Accessoires  1285         5         0.0         6425   1285.00  2024-01    6425.00\n",
       "2  2024-01-03        Goma    Samsung Galaxy  Accessoires   914         4        10.0         3656    822.60  2024-01    3290.40\n",
       "16 2024-01-17  Lubumbashi  Imprimante Canon   Téléphones  1336         2         0.0         2672   1336.00  2024-01    2672.00\n",
       "10 2024-01-11  Lubumbashi  Imprimante Canon   Téléphones   469         5         0.0         2345    469.00  2024-01    2345.00\n",
       "3  2024-01-04  Lubumbashi     Écouteurs JBL  Imprimantes  1171         2         0.0         2342   1171.00  2024-01    2342.00\n",
       "0  2024-01-01      Bukavu     Écouteurs JBL  Accessoires   866         2         0.0         1732    866.00  2024-01    1732.00\n",
       "15 2024-01-16  Lubumbashi     Écouteurs JBL  Accessoires  1348         1        10.0         1348   1213.20  2024-01    1213.20\n",
       "17 2024-01-18      Bukavu         Laptop HP  Accessoires  1265         1         0.0         1265   1265.00  2024-01    1265.00\n",
       "14 2024-01-15    Kinshasa    Samsung Galaxy   Téléphones   298         4         0.0         1192    298.00  2024-01    1192.00\n",
       "19 2024-01-20        Goma           Clé USB   Téléphones  1059         1         5.0         1059   1006.05  2024-01    1006.05\n",
       "11 2024-01-12      Bukavu  Imprimante Canon  Imprimantes  1033         1        15.0         1033    878.05  2024-01     878.05\n",
       "12 2024-01-13        Goma  Imprimante Canon  Accessoires   191         5        15.0          955    162.35  2024-01     811.75\n",
       "7  2024-01-08        Goma           Clé USB  Ordinateurs   230         4        10.0          920    207.00  2024-01     828.00\n",
       "18 2024-01-19    Kinshasa           Clé USB   Téléphones   890         1         0.0          890    890.00  2024-01     890.00\n",
       "6  2024-01-07  Lubumbashi    Samsung Galaxy   Téléphones   673         1        10.0          673    605.70  2024-01     605.70\n",
       "4  2024-01-05        Goma           Clé USB  Ordinateurs   600         1        15.0          600    510.00  2024-01     510.00\n",
       "8  2024-01-09  Lubumbashi  Imprimante Canon  Imprimantes   168         3         0.0          504    168.00  2024-01     504.00\n",
       "1  2024-01-02        Goma  Imprimante Canon  Accessoires   169         2         0.0          338    169.00  2024-01     338.00\n",
       "9  2024-01-10        Goma     Écouteurs JBL   Téléphones   104         3        15.0          312     88.40  2024-01     265.20"
      ]
     },
     "execution_count": 23,
     "metadata": {},
     "output_type": "execute_result"
    }
   ],
   "source": [
    "# Calacul de la colonne Total_net\n",
    "database_1[\"Total_net\"] = database_1[\"Prix_net\"] * database_1[\"Quantité\"]\n",
    "database_1"
   ]
  },
  {
   "cell_type": "code",
   "execution_count": 24,
   "id": "39628c85",
   "metadata": {},
   "outputs": [
    {
     "data": {
      "text/plain": [
       "Magasin\n",
       "Bukavu        10775.05\n",
       "Lubumbashi     9681.90\n",
       "Kinshasa       8507.00\n",
       "Goma           7049.40\n",
       "Name: Total_net, dtype: float64"
      ]
     },
     "execution_count": 24,
     "metadata": {},
     "output_type": "execute_result"
    }
   ],
   "source": [
    "# Calcul des ventes nettes par magasin\n",
    "ventes_par_magasin = database_1.groupby(\"Magasin\")[\"Total_net\"].sum().sort_values(ascending=False)\n",
    "ventes_par_magasin"
   ]
  },
  {
   "cell_type": "code",
   "execution_count": 25,
   "id": "198c38a3",
   "metadata": {},
   "outputs": [
    {
     "name": "stderr",
     "output_type": "stream",
     "text": [
      "C:\\Users\\HP\\AppData\\Local\\Temp\\ipykernel_9316\\3172611455.py:3: FutureWarning: \n",
      "\n",
      "Passing `palette` without assigning `hue` is deprecated and will be removed in v0.14.0. Assign the `x` variable to `hue` and set `legend=False` for the same effect.\n",
      "\n",
      "  sns.barplot(x=ventes_par_magasin.index, y=ventes_par_magasin.values, palette=\"viridis\")\n"
     ]
    },
    {
     "data": {
      "image/png": "[encoded data removed]",
      "text/plain": [
       "<Figure size 1000x600 with 1 Axes>"
      ]
     },
     "metadata": {},
     "output_type": "display_data"
    }
   ],
   "source": [
    "# Représenter graphiquement les ventes par magasin\n",
    "plt.figure(figsize=(10,6))\n",
    "sns.barplot(x=ventes_par_magasin.index, y=ventes_par_magasin.values, palette=\"viridis\")\n",
    "plt.title(\"Total des ventes par magasin\", fontsize=14)\n",
    "plt.xlabel(\"Magasin\")\n",
    "plt.ylabel(\"Total des ventes (net)\")\n",
    "plt.xticks(rotation=45)\n",
    "plt.tight_layout()\n",
    "plt.show()"
   ]
  },
  {
   "cell_type": "code",
   "execution_count": 26,
   "id": "f90d0986",
   "metadata": {},
   "outputs": [],
   "source": [
    "\n",
    "# Créer un bar plot des produits les plus vendus \n",
    "# Agréger la quantité totale vendue par produit\n",
    "ventes_par_produit = database_1.groupby(\"Produit\")[\"Quantité\"].sum().sort_values(ascending=False)\n",
    "ventes_par_produit = database_1.groupby(\"Produit\")[\"Quantité\"].sum().sort_values(ascending=False).reset_index()"
   ]
  },
  {
   "cell_type": "code",
   "execution_count": 27,
   "id": "672e6ca4",
   "metadata": {},
   "outputs": [
    {
     "name": "stderr",
     "output_type": "stream",
     "text": [
      "C:\\Users\\HP\\AppData\\Local\\Temp\\ipykernel_9316\\901756002.py:3: FutureWarning: \n",
      "\n",
      "Passing `palette` without assigning `hue` is deprecated and will be removed in v0.14.0. Assign the `x` variable to `hue` and set `legend=False` for the same effect.\n",
      "\n",
      "  sns.barplot(data=ventes_par_produit, x=\"Produit\", y=\"Quantité\", palette=\"crest\")\n"
     ]
    },
    {
     "data": {
      "image/png": "[encoded data removed]",
      "text/plain": [
       "<Figure size 1200x600 with 1 Axes>"
      ]
     },
     "metadata": {},
     "output_type": "display_data"
    }
   ],
   "source": [
    "# Création du bar plot\n",
    "plt.figure(figsize=(12, 6))\n",
    "sns.barplot(data=ventes_par_produit, x=\"Produit\", y=\"Quantité\", palette=\"crest\")\n",
    "plt.title(\"Produits les plus vendus\", fontsize=14)\n",
    "plt.xlabel(\"Produit\")\n",
    "plt.ylabel(\"Quantité totale vendue\")\n",
    "plt.xticks(rotation=45)\n",
    "plt.tight_layout()\n",
    "plt.show()"
   ]
  },
  {
   "cell_type": "markdown",
   "id": "9bfd2a86",
   "metadata": {},
   "source": [
    "## Diagramme en barres horizontal (Top 10)"
   ]
  },
  {
   "cell_type": "code",
   "execution_count": 28,
   "id": "5ac80bde",
   "metadata": {},
   "outputs": [],
   "source": [
    "# Top 10 produits les plus vendus\n",
    "ventes_par_produit = database_1.groupby(\"Produit\")[\"Quantité\"].sum().sort_values(ascending=False).head(10)"
   ]
  },
  {
   "cell_type": "code",
   "execution_count": 29,
   "id": "a435051c",
   "metadata": {},
   "outputs": [
    {
     "name": "stderr",
     "output_type": "stream",
     "text": [
      "C:\\Users\\HP\\AppData\\Local\\Temp\\ipykernel_9316\\2193228611.py:3: FutureWarning: \n",
      "\n",
      "Passing `palette` without assigning `hue` is deprecated and will be removed in v0.14.0. Assign the `y` variable to `hue` and set `legend=False` for the same effect.\n",
      "\n",
      "  sns.barplot(x=ventes_par_produit.values, y=ventes_par_produit.index, palette=\"Blues_r\")\n"
     ]
    },
    {
     "data": {
      "image/png": "[encoded data removed]",
      "text/plain": [
       "<Figure size 1000x600 with 1 Axes>"
      ]
     },
     "metadata": {},
     "output_type": "display_data"
    }
   ],
   "source": [
    "# Barres horizontales\n",
    "plt.figure(figsize=(10, 6))\n",
    "sns.barplot(x=ventes_par_produit.values, y=ventes_par_produit.index, palette=\"Blues_r\")\n",
    "plt.title(\"Top 10 des produits les plus vendus\", fontsize=14)\n",
    "plt.xlabel(\"Quantité totale vendue\")\n",
    "plt.ylabel(\"Produit\")\n",
    "plt.tight_layout()\n",
    "plt.show()"
   ]
  },
  {
   "cell_type": "markdown",
   "id": "ad04351e",
   "metadata": {},
   "source": [
    "## Diagramme circulaire (camembert, Top 5)"
   ]
  },
  {
   "cell_type": "code",
   "execution_count": 30,
   "id": "f6e4cbdd",
   "metadata": {},
   "outputs": [],
   "source": [
    "# Top 5 produits pour éviter surcharge visuelle\n",
    "ventes_top5 = ventes_par_produit.head(5)"
   ]
  },
  {
   "cell_type": "code",
   "execution_count": 31,
   "id": "acb0448e",
   "metadata": {},
   "outputs": [
    {
     "data": {
      "image/png": "[encoded data removed]",
      "text/plain": [
       "<Figure size 700x700 with 1 Axes>"
      ]
     },
     "metadata": {},
     "output_type": "display_data"
    }
   ],
   "source": [
    "# Diagramme circulaire\n",
    "plt.figure(figsize=(7, 7))\n",
    "plt.pie(ventes_top5.values, labels=ventes_top5.index, autopct='%1.1f%%', startangle=140, colors=sns.color_palette(\"pastel\"))\n",
    "plt.title(\"Répartition des 5 produits les plus vendus\")\n",
    "plt.axis('equal')  # Cercle parfait\n",
    "plt.show()"
   ]
  },
  {
   "cell_type": "markdown",
   "id": "19288e89",
   "metadata": {},
   "source": [
    "## Ventes par catégorie de produit"
   ]
  },
  {
   "cell_type": "code",
   "execution_count": 32,
   "id": "462dd712",
   "metadata": {},
   "outputs": [],
   "source": [
    "# Total des ventes nettes par catégorie\n",
    "ventes_par_categorie = database_1.groupby(\"Catégorie\")[\"Prix_net\"].sum().sort_values(ascending=False)"
   ]
  },
  {
   "cell_type": "code",
   "execution_count": 33,
   "id": "dfa6cbab",
   "metadata": {},
   "outputs": [
    {
     "name": "stderr",
     "output_type": "stream",
     "text": [
      "C:\\Users\\HP\\AppData\\Local\\Temp\\ipykernel_9316\\3493842862.py:3: FutureWarning: \n",
      "\n",
      "Passing `palette` without assigning `hue` is deprecated and will be removed in v0.14.0. Assign the `x` variable to `hue` and set `legend=False` for the same effect.\n",
      "\n",
      "  sns.barplot(x=ventes_par_categorie.index, y=ventes_par_categorie.values, palette=\"Set2\")\n"
     ]
    },
    {
     "data": {
      "image/png": "[encoded data removed]",
      "text/plain": [
       "<Figure size 1000x600 with 1 Axes>"
      ]
     },
     "metadata": {},
     "output_type": "display_data"
    }
   ],
   "source": [
    "# Diagramme en barres\n",
    "plt.figure(figsize=(10, 6))\n",
    "sns.barplot(x=ventes_par_categorie.index, y=ventes_par_categorie.values, palette=\"Set2\")\n",
    "\n",
    "plt.title(\"Total des ventes par catégorie de produit\", fontsize=14)\n",
    "plt.xlabel(\"Catégorie\")\n",
    "plt.ylabel(\"Ventes nettes\")\n",
    "plt.xticks(rotation=45)\n",
    "plt.tight_layout()\n",
    "plt.show()"
   ]
  },
  {
   "cell_type": "markdown",
   "id": "5eadf3b2",
   "metadata": {},
   "source": [
    "## Ventes par mois"
   ]
  },
  {
   "cell_type": "code",
   "execution_count": 34,
   "id": "c2520284",
   "metadata": {},
   "outputs": [],
   "source": [
    "# S'assurer que la colonne Date est bien au format datetime\n",
    "database_1[\"Date\"] = pd.to_datetime(database_1[\"Date\"])"
   ]
  },
  {
   "cell_type": "code",
   "execution_count": 35,
   "id": "12903bf3",
   "metadata": {},
   "outputs": [],
   "source": [
    "# Extraire le mois\n",
    "database_1[\"Mois\"] = database_1[\"Date\"].dt.to_period(\"M\")"
   ]
  },
  {
   "cell_type": "code",
   "execution_count": 36,
   "id": "c6bad232",
   "metadata": {},
   "outputs": [],
   "source": [
    "# Total des ventes nettes par mois\n",
    "ventes_par_mois = database_1.groupby(\"Mois\")[\"Prix_net\"].sum()"
   ]
  },
  {
   "cell_type": "code",
   "execution_count": 37,
   "id": "8d87f9ee",
   "metadata": {},
   "outputs": [
    {
     "data": {
      "image/png": "[encoded data removed]",
      "text/plain": [
       "<Figure size 1000x600 with 1 Axes>"
      ]
     },
     "metadata": {},
     "output_type": "display_data"
    }
   ],
   "source": [
    "# Représentation graphique\n",
    "plt.figure(figsize=(10, 6))\n",
    "ventes_par_mois.plot(kind='bar', color='salmon')\n",
    "plt.title(\"Ventes nettes par mois\", fontsize=14)\n",
    "plt.xlabel(\"Mois\")\n",
    "plt.ylabel(\"Ventes nettes\")\n",
    "plt.xticks(rotation=45)\n",
    "plt.tight_layout()\n",
    "plt.show()\n"
   ]
  }
 ],
 "metadata": {
  "kernelspec": {
   "display_name": "Python 3",
   "language": "python",
   "name": "python3"
  },
  "language_info": {
   "codemirror_mode": {
    "name": "ipython",
    "version": 3
   },
   "file_extension": ".py",
   "mimetype": "text/x-python",
   "name": "python",
   "nbconvert_exporter": "python",
   "pygments_lexer": "ipython3",
   "version": "3.13.3"
  }
 },
 "nbformat": 4,
 "nbformat_minor": 5
}
