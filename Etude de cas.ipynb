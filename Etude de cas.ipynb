{
 "cells": [
  {
   "cell_type": "markdown",
   "id": "f158979c",
   "metadata": {},
   "source": [
    "# Études de cas réels "
   ]
  },
  {
   "cell_type": "markdown",
   "id": "eec829ea",
   "metadata": {},
   "source": [
    "## 1. Chargement des données"
   ]
  },
  {
   "cell_type": "code",
   "execution_count": null,
   "id": "c5d64b36",
   "metadata": {},
   "outputs": [],
   "source": [
    "import pandas as pd \n",
    "import matplotlib.pyplot as plt \n",
    "import seaborn as sns "
   ]
  },
  {
   "cell_type": "code",
   "execution_count": null,
   "id": "65a29407",
   "metadata": {},
   "outputs": [],
   "source": [
    "# Charger le fichier CSV \n",
    "Ventes_magasin = pd.read_csv(\"C:/Users/HP/Desktop/DATA ANALYST/5-PYTHON/Formation Python/M4_Matplolib&Seabonr/visualisation_ventes_magasin - visualisation_ventes_magasin.csv.csv\") "
   ]
  },
  {
   "cell_type": "code",
   "execution_count": null,
   "id": "add1c73c",
   "metadata": {},
   "outputs": [],
   "source": [
    "# Aperçu \n",
    "print(Ventes_magasin.head()) "
   ]
  },
  {
   "cell_type": "markdown",
   "id": "0ee0cb54",
   "metadata": {},
   "source": [
    "## 2. Visualisation de l’évolution des revenus par mois "
   ]
  },
  {
   "cell_type": "code",
   "execution_count": null,
   "id": "eb1be70a",
   "metadata": {},
   "outputs": [],
   "source": [
    "# Étape 1 – Conversion de la colonne Date : \n",
    "Ventes_magasin['Date'] = pd.to_datetime(Ventes_magasin['Date']) \n",
    "Ventes_magasin['Mois'] = Ventes_magasin['Date'].dt.to_period('M').astype(str)  \n",
    "# pour un format \"YYYY-MM\""
   ]
  },
  {
   "cell_type": "code",
   "execution_count": null,
   "id": "f6a86bb3",
   "metadata": {},
   "outputs": [],
   "source": [
    "# Étape 2 – Agrégation des revenus : \n",
    "revenus_mensuels = Ventes_magasin.groupby('Mois')['Revenu'].sum().reset_index()\n",
    "print(revenus_mensuels)"
   ]
  },
  {
   "cell_type": "code",
   "execution_count": null,
   "id": "d5fcd5a2",
   "metadata": {},
   "outputs": [],
   "source": [
    "# Étape 3 – Visualisation : \n",
    "plt.figure(figsize=(12, 6)) \n",
    "sns.lineplot(data=revenus_mensuels, x=\"Mois\", y=\"Revenu\", marker='o') \n",
    "plt.xticks(rotation=45) \n",
    "plt.title(\"Évolution des revenus mensuels\") \n",
    "plt.xlabel(\"Mois\") \n",
    "plt.ylabel(\"Revenu total\") \n",
    "plt.grid(True) \n",
    "plt.tight_layout() \n",
    "plt.show()"
   ]
  },
  {
   "cell_type": "markdown",
   "id": "ba430481",
   "metadata": {},
   "source": [
    "## 3. Comparaison des performances par catégorie "
   ]
  },
  {
   "cell_type": "code",
   "execution_count": null,
   "id": "6b3e5b56",
   "metadata": {},
   "outputs": [],
   "source": [
    "# Étape 1 – Agrégation : \n",
    "revenus_par_categorie = Ventes_magasin.groupby(\"Categorie\")[\"Revenu\"].sum().reset_index()\n",
    "print(revenus_par_categorie)"
   ]
  },
  {
   "cell_type": "code",
   "execution_count": null,
   "id": "5f314469",
   "metadata": {},
   "outputs": [],
   "source": [
    "# Étape 2 – Visualisation : \n",
    "plt.figure(figsize=(8, 6)) \n",
    "sns.barplot(data=revenus_par_categorie, x=\"Categorie\", y=\"Revenu\", \n",
    "palette=\"muted\") \n",
    "plt.title(\"Revenu total par catégorie de produits\") \n",
    "plt.ylabel(\"Revenu (en $)\") \n",
    "plt.xlabel(\"Catégorie\") \n",
    "plt.xticks(rotation=30) \n",
    "plt.tight_layout() \n",
    "plt.show() "
   ]
  },
  {
   "cell_type": "code",
   "execution_count": null,
   "id": "221b898d",
   "metadata": {},
   "outputs": [],
   "source": [
    "# Bonus : Heatmap des ventes par Catégorie & Mois \n",
    "pivot = Ventes_magasin.pivot_table(index='Categorie', columns='Mois', \n",
    "values='Revenu', aggfunc='sum', fill_value=0) \n",
    "plt.figure(figsize=(12, 6)) \n",
    "sns.heatmap(pivot, annot=True, fmt=\".0f\", cmap=\"YlGnBu\") \n",
    "plt.title(\"Heatmap des revenus par catégorie et mois\") \n",
    "plt.xlabel(\"Mois\") \n",
    "plt.ylabel(\"Catégorie\") \n",
    "plt.tight_layout() \n",
    "plt.show() "
   ]
  }
 ],
 "metadata": {
  "kernelspec": {
   "display_name": "Python 3",
   "language": "python",
   "name": "python3"
  },
  "language_info": {
   "codemirror_mode": {
    "name": "ipython",
    "version": 3
   },
   "file_extension": ".py",
   "mimetype": "text/x-python",
   "name": "python",
   "nbconvert_exporter": "python",
   "pygments_lexer": "ipython3",
   "version": "3.13.3"
  }
 },
 "nbformat": 4,
 "nbformat_minor": 5
}
