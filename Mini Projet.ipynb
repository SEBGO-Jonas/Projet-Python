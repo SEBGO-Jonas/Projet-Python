{
 "cells": [
  {
   "cell_type": "markdown",
   "id": "6c0c77bc",
   "metadata": {},
   "source": [
    "# Mini-Projets & Exercices "
   ]
  },
  {
   "cell_type": "markdown",
   "id": "ce0ea701",
   "metadata": {},
   "source": [
    "## Exercice 1 : Exploration initiale"
   ]
  },
  {
   "cell_type": "code",
   "execution_count": 5,
   "id": "68ee84af",
   "metadata": {},
   "outputs": [],
   "source": [
    "#Charger le fichier dans un DataFrame\n",
    "import pandas as pd\n",
    "database = pd.read_csv(\"C:/Users/HP/Desktop/DATA ANALYST/5-PYTHON/Formation Python/Mini_Projet/ventes_magasin - ventes_magasin.csv.csv\")"
   ]
  },
  {
   "cell_type": "code",
   "execution_count": 6,
   "id": "c8a97ce0",
   "metadata": {},
   "outputs": [
    {
     "data": {
      "text/html": [
       "<div>\n",
       "<style scoped>\n",
       "    .dataframe tbody tr th:only-of-type {\n",
       "        vertical-align: middle;\n",
       "    }\n",
       "\n",
       "    .dataframe tbody tr th {\n",
       "        vertical-align: top;\n",
       "    }\n",
       "\n",
       "    .dataframe thead th {\n",
       "        text-align: right;\n",
       "    }\n",
       "</style>\n",
       "<table border=\"1\" class=\"dataframe\">\n",
       "  <thead>\n",
       "    <tr style=\"text-align: right;\">\n",
       "      <th></th>\n",
       "      <th>Date</th>\n",
       "      <th>Magasin</th>\n",
       "      <th>Produit</th>\n",
       "      <th>Catégorie</th>\n",
       "      <th>Prix</th>\n",
       "      <th>Quantité</th>\n",
       "      <th>Remise (%)</th>\n",
       "    </tr>\n",
       "  </thead>\n",
       "  <tbody>\n",
       "    <tr>\n",
       "      <th>0</th>\n",
       "      <td>2024-01-01</td>\n",
       "      <td>Bukavu</td>\n",
       "      <td>Écouteurs JBL</td>\n",
       "      <td>Accessoires</td>\n",
       "      <td>866</td>\n",
       "      <td>2</td>\n",
       "      <td>NaN</td>\n",
       "    </tr>\n",
       "    <tr>\n",
       "      <th>1</th>\n",
       "      <td>2024-01-02</td>\n",
       "      <td>Goma</td>\n",
       "      <td>Imprimante Canon</td>\n",
       "      <td>Accessoires</td>\n",
       "      <td>169</td>\n",
       "      <td>2</td>\n",
       "      <td>0.0</td>\n",
       "    </tr>\n",
       "    <tr>\n",
       "      <th>2</th>\n",
       "      <td>2024-01-03</td>\n",
       "      <td>Goma</td>\n",
       "      <td>Samsung Galaxy</td>\n",
       "      <td>Accessoires</td>\n",
       "      <td>914</td>\n",
       "      <td>4</td>\n",
       "      <td>10.0</td>\n",
       "    </tr>\n",
       "    <tr>\n",
       "      <th>3</th>\n",
       "      <td>2024-01-04</td>\n",
       "      <td>Lubumbashi</td>\n",
       "      <td>Écouteurs JBL</td>\n",
       "      <td>Imprimantes</td>\n",
       "      <td>1171</td>\n",
       "      <td>2</td>\n",
       "      <td>NaN</td>\n",
       "    </tr>\n",
       "    <tr>\n",
       "      <th>4</th>\n",
       "      <td>2024-01-05</td>\n",
       "      <td>Goma</td>\n",
       "      <td>Clé USB</td>\n",
       "      <td>Ordinateurs</td>\n",
       "      <td>600</td>\n",
       "      <td>1</td>\n",
       "      <td>15.0</td>\n",
       "    </tr>\n",
       "  </tbody>\n",
       "</table>\n",
       "</div>"
      ],
      "text/plain": [
       "         Date     Magasin           Produit    Catégorie  Prix  Quantité  \\\n",
       "0  2024-01-01      Bukavu     Écouteurs JBL  Accessoires   866         2   \n",
       "1  2024-01-02        Goma  Imprimante Canon  Accessoires   169         2   \n",
       "2  2024-01-03        Goma    Samsung Galaxy  Accessoires   914         4   \n",
       "3  2024-01-04  Lubumbashi     Écouteurs JBL  Imprimantes  1171         2   \n",
       "4  2024-01-05        Goma           Clé USB  Ordinateurs   600         1   \n",
       "\n",
       "   Remise (%)  \n",
       "0         NaN  \n",
       "1         0.0  \n",
       "2        10.0  \n",
       "3         NaN  \n",
       "4        15.0  "
      ]
     },
     "execution_count": 6,
     "metadata": {},
     "output_type": "execute_result"
    }
   ],
   "source": [
    "#databaseAfficher les premières lignes \n",
    "database.head()"
   ]
  },
  {
   "cell_type": "code",
   "execution_count": 7,
   "id": "c42be400",
   "metadata": {},
   "outputs": [
    {
     "data": {
      "text/plain": [
       "(20, 7)"
      ]
     },
     "execution_count": 7,
     "metadata": {},
     "output_type": "execute_result"
    }
   ],
   "source": [
    "# Nombre de lignes et colonnes de la base de données\n",
    "database.shape"
   ]
  },
  {
   "cell_type": "code",
   "execution_count": 9,
   "id": "a5f6ac1c",
   "metadata": {},
   "outputs": [
    {
     "name": "stdout",
     "output_type": "stream",
     "text": [
      "<class 'pandas.core.frame.DataFrame'>\n",
      "RangeIndex: 20 entries, 0 to 19\n",
      "Data columns (total 7 columns):\n",
      " #   Column      Non-Null Count  Dtype  \n",
      "---  ------      --------------  -----  \n",
      " 0   Date        20 non-null     object \n",
      " 1   Magasin     20 non-null     object \n",
      " 2   Produit     20 non-null     object \n",
      " 3   Catégorie   20 non-null     object \n",
      " 4   Prix        20 non-null     int64  \n",
      " 5   Quantité    20 non-null     int64  \n",
      " 6   Remise (%)  15 non-null     float64\n",
      "dtypes: float64(1), int64(2), object(4)\n",
      "memory usage: 1.2+ KB\n"
     ]
    }
   ],
   "source": [
    "# Quelles sont les colonnes ? \n",
    "database.info()"
   ]
  },
  {
   "cell_type": "code",
   "execution_count": 14,
   "id": "1bf1a6d5",
   "metadata": {},
   "outputs": [
    {
     "data": {
      "text/plain": [
       "Index(['Date', 'Magasin', 'Produit', 'Catégorie', 'Prix', 'Quantité',\n",
       "       'Remise (%)'],\n",
       "      dtype='object')"
      ]
     },
     "execution_count": 14,
     "metadata": {},
     "output_type": "execute_result"
    }
   ],
   "source": [
    "database.columns# autres méthode pour afficher les colonnes"
   ]
  },
  {
   "cell_type": "code",
   "execution_count": null,
   "id": "e00070ab",
   "metadata": {},
   "outputs": [
    {
     "name": "stdout",
     "output_type": "stream",
     "text": [
      "Catégories de produits : ['Accessoires' 'Imprimantes' 'Ordinateurs' 'Téléphones']\n"
     ]
    }
   ],
   "source": [
    "# Les catégories de produits \n",
    "categories = database[\"Catégorie\"].unique()\n",
    "print(\"Catégories de produits :\", categories)\n"
   ]
  },
  {
   "cell_type": "markdown",
   "id": "9c7b06b9",
   "metadata": {},
   "source": [
    "# Exercice 2 : Calculs simples "
   ]
  },
  {
   "cell_type": "code",
   "execution_count": 7,
   "id": "c245dd72",
   "metadata": {},
   "outputs": [
    {
     "name": "stdout",
     "output_type": "stream",
     "text": [
      "          Date     Magasin           Produit    Catégorie  Prix  Quantité  Remise (%)  Total_Vente\n",
      "0   2024-01-01      Bukavu     Écouteurs JBL  Accessoires   866         2         NaN         1732\n",
      "1   2024-01-02        Goma  Imprimante Canon  Accessoires   169         2         0.0          338\n",
      "2   2024-01-03        Goma    Samsung Galaxy  Accessoires   914         4        10.0         3656\n",
      "3   2024-01-04  Lubumbashi     Écouteurs JBL  Imprimantes  1171         2         NaN         2342\n",
      "4   2024-01-05        Goma           Clé USB  Ordinateurs   600         1        15.0          600\n",
      "5   2024-01-06    Kinshasa           Clé USB  Accessoires  1285         5         0.0         6425\n",
      "6   2024-01-07  Lubumbashi    Samsung Galaxy   Téléphones   673         1        10.0          673\n",
      "7   2024-01-08        Goma           Clé USB  Ordinateurs   230         4        10.0          920\n",
      "8   2024-01-09  Lubumbashi  Imprimante Canon  Imprimantes   168         3         0.0          504\n",
      "9   2024-01-10        Goma     Écouteurs JBL   Téléphones   104         3        15.0          312\n",
      "10  2024-01-11  Lubumbashi  Imprimante Canon   Téléphones   469         5         NaN         2345\n",
      "11  2024-01-12      Bukavu  Imprimante Canon  Imprimantes  1033         1        15.0         1033\n",
      "12  2024-01-13        Goma  Imprimante Canon  Accessoires   191         5        15.0          955\n",
      "13  2024-01-14      Bukavu  Imprimante Canon  Ordinateurs  1380         5         NaN         6900\n",
      "14  2024-01-15    Kinshasa    Samsung Galaxy   Téléphones   298         4         0.0         1192\n",
      "15  2024-01-16  Lubumbashi     Écouteurs JBL  Accessoires  1348         1        10.0         1348\n",
      "16  2024-01-17  Lubumbashi  Imprimante Canon   Téléphones  1336         2         0.0         2672\n",
      "17  2024-01-18      Bukavu         Laptop HP  Accessoires  1265         1         NaN         1265\n",
      "18  2024-01-19    Kinshasa           Clé USB   Téléphones   890         1         0.0          890\n",
      "19  2024-01-20        Goma           Clé USB   Téléphones  1059         1         5.0         1059\n"
     ]
    }
   ],
   "source": [
    "# Créer une nouvelle base de données avec la colonne Total_Vente “Total_Vente” = Prix × Quantité \n",
    "database_1 = database.copy()\n",
    "database_1[\"Total_Vente\"] = database_1[\"Prix\"] * database_1[\"Quantité\"]\n",
    "pd.set_option('display.max_columns', None)     # Affiche toutes les colonnes\n",
    "pd.set_option('display.expand_frame_repr', False)  # Empêche les retours à la ligne\n",
    "pd.set_option('display.width', 0)  \n",
    "print(database_1)\n"
   ]
  },
  {
   "cell_type": "code",
   "execution_count": 8,
   "id": "cf2dc60b",
   "metadata": {},
   "outputs": [
    {
     "name": "stdout",
     "output_type": "stream",
     "text": [
      "          Date     Magasin           Produit    Catégorie  Prix  Quantité  Remise (%)  Total_Vente  Prix_net\n",
      "0   2024-01-01      Bukavu     Écouteurs JBL  Accessoires   866         2         NaN         1732    866.00\n",
      "1   2024-01-02        Goma  Imprimante Canon  Accessoires   169         2         0.0          338    169.00\n",
      "2   2024-01-03        Goma    Samsung Galaxy  Accessoires   914         4        10.0         3656    822.60\n",
      "3   2024-01-04  Lubumbashi     Écouteurs JBL  Imprimantes  1171         2         NaN         2342   1171.00\n",
      "4   2024-01-05        Goma           Clé USB  Ordinateurs   600         1        15.0          600    510.00\n",
      "5   2024-01-06    Kinshasa           Clé USB  Accessoires  1285         5         0.0         6425   1285.00\n",
      "6   2024-01-07  Lubumbashi    Samsung Galaxy   Téléphones   673         1        10.0          673    605.70\n",
      "7   2024-01-08        Goma           Clé USB  Ordinateurs   230         4        10.0          920    207.00\n",
      "8   2024-01-09  Lubumbashi  Imprimante Canon  Imprimantes   168         3         0.0          504    168.00\n",
      "9   2024-01-10        Goma     Écouteurs JBL   Téléphones   104         3        15.0          312     88.40\n",
      "10  2024-01-11  Lubumbashi  Imprimante Canon   Téléphones   469         5         NaN         2345    469.00\n",
      "11  2024-01-12      Bukavu  Imprimante Canon  Imprimantes  1033         1        15.0         1033    878.05\n",
      "12  2024-01-13        Goma  Imprimante Canon  Accessoires   191         5        15.0          955    162.35\n",
      "13  2024-01-14      Bukavu  Imprimante Canon  Ordinateurs  1380         5         NaN         6900   1380.00\n",
      "14  2024-01-15    Kinshasa    Samsung Galaxy   Téléphones   298         4         0.0         1192    298.00\n",
      "15  2024-01-16  Lubumbashi     Écouteurs JBL  Accessoires  1348         1        10.0         1348   1213.20\n",
      "16  2024-01-17  Lubumbashi  Imprimante Canon   Téléphones  1336         2         0.0         2672   1336.00\n",
      "17  2024-01-18      Bukavu         Laptop HP  Accessoires  1265         1         NaN         1265   1265.00\n",
      "18  2024-01-19    Kinshasa           Clé USB   Téléphones   890         1         0.0          890    890.00\n",
      "19  2024-01-20        Goma           Clé USB   Téléphones  1059         1         5.0         1059   1006.05\n"
     ]
    }
   ],
   "source": [
    "# Ajouter la colonne Prix_net après remise\n",
    "database_1[\"Prix_net\"] = database_1[\"Prix\"] * (1 - database_1[\"Remise (%)\"].fillna(0) / 100)\n",
    "print(database_1)"
   ]
  },
  {
   "cell_type": "code",
   "execution_count": 9,
   "id": "05df80db",
   "metadata": {},
   "outputs": [
    {
     "name": "stdout",
     "output_type": "stream",
     "text": [
      "          Date     Magasin           Produit    Catégorie  Prix  Quantité  Remise (%)  Total_Vente  Prix_net\n",
      "0   2024-01-01      Bukavu     Écouteurs JBL  Accessoires   866         2         0.0         1732    866.00\n",
      "1   2024-01-02        Goma  Imprimante Canon  Accessoires   169         2         0.0          338    169.00\n",
      "2   2024-01-03        Goma    Samsung Galaxy  Accessoires   914         4        10.0         3656    822.60\n",
      "3   2024-01-04  Lubumbashi     Écouteurs JBL  Imprimantes  1171         2         0.0         2342   1171.00\n",
      "4   2024-01-05        Goma           Clé USB  Ordinateurs   600         1        15.0          600    510.00\n",
      "5   2024-01-06    Kinshasa           Clé USB  Accessoires  1285         5         0.0         6425   1285.00\n",
      "6   2024-01-07  Lubumbashi    Samsung Galaxy   Téléphones   673         1        10.0          673    605.70\n",
      "7   2024-01-08        Goma           Clé USB  Ordinateurs   230         4        10.0          920    207.00\n",
      "8   2024-01-09  Lubumbashi  Imprimante Canon  Imprimantes   168         3         0.0          504    168.00\n",
      "9   2024-01-10        Goma     Écouteurs JBL   Téléphones   104         3        15.0          312     88.40\n",
      "10  2024-01-11  Lubumbashi  Imprimante Canon   Téléphones   469         5         0.0         2345    469.00\n",
      "11  2024-01-12      Bukavu  Imprimante Canon  Imprimantes  1033         1        15.0         1033    878.05\n",
      "12  2024-01-13        Goma  Imprimante Canon  Accessoires   191         5        15.0          955    162.35\n",
      "13  2024-01-14      Bukavu  Imprimante Canon  Ordinateurs  1380         5         0.0         6900   1380.00\n",
      "14  2024-01-15    Kinshasa    Samsung Galaxy   Téléphones   298         4         0.0         1192    298.00\n",
      "15  2024-01-16  Lubumbashi     Écouteurs JBL  Accessoires  1348         1        10.0         1348   1213.20\n",
      "16  2024-01-17  Lubumbashi  Imprimante Canon   Téléphones  1336         2         0.0         2672   1336.00\n",
      "17  2024-01-18      Bukavu         Laptop HP  Accessoires  1265         1         0.0         1265   1265.00\n",
      "18  2024-01-19    Kinshasa           Clé USB   Téléphones   890         1         0.0          890    890.00\n",
      "19  2024-01-20        Goma           Clé USB   Téléphones  1059         1         5.0         1059   1006.05\n"
     ]
    }
   ],
   "source": [
    "# Traitement des valeurs manquantes \n",
    "database_1[\"Remise (%)\"] = database_1[\"Remise (%)\"].fillna(0)\n",
    "print(database_1)\n"
   ]
  },
  {
   "cell_type": "code",
   "execution_count": 10,
   "id": "a2bef78a",
   "metadata": {},
   "outputs": [
    {
     "name": "stdout",
     "output_type": "stream",
     "text": [
      "          Date     Magasin           Produit    Catégorie  Prix  Quantité  Remise (%)  Total_Vente  Prix_net\n",
      "13  2024-01-14      Bukavu  Imprimante Canon  Ordinateurs  1380         5         0.0         6900   1380.00\n",
      "5   2024-01-06    Kinshasa           Clé USB  Accessoires  1285         5         0.0         6425   1285.00\n",
      "2   2024-01-03        Goma    Samsung Galaxy  Accessoires   914         4        10.0         3656    822.60\n",
      "16  2024-01-17  Lubumbashi  Imprimante Canon   Téléphones  1336         2         0.0         2672   1336.00\n",
      "10  2024-01-11  Lubumbashi  Imprimante Canon   Téléphones   469         5         0.0         2345    469.00\n",
      "3   2024-01-04  Lubumbashi     Écouteurs JBL  Imprimantes  1171         2         0.0         2342   1171.00\n",
      "0   2024-01-01      Bukavu     Écouteurs JBL  Accessoires   866         2         0.0         1732    866.00\n",
      "15  2024-01-16  Lubumbashi     Écouteurs JBL  Accessoires  1348         1        10.0         1348   1213.20\n",
      "17  2024-01-18      Bukavu         Laptop HP  Accessoires  1265         1         0.0         1265   1265.00\n",
      "14  2024-01-15    Kinshasa    Samsung Galaxy   Téléphones   298         4         0.0         1192    298.00\n",
      "19  2024-01-20        Goma           Clé USB   Téléphones  1059         1         5.0         1059   1006.05\n",
      "11  2024-01-12      Bukavu  Imprimante Canon  Imprimantes  1033         1        15.0         1033    878.05\n",
      "12  2024-01-13        Goma  Imprimante Canon  Accessoires   191         5        15.0          955    162.35\n",
      "7   2024-01-08        Goma           Clé USB  Ordinateurs   230         4        10.0          920    207.00\n",
      "18  2024-01-19    Kinshasa           Clé USB   Téléphones   890         1         0.0          890    890.00\n",
      "6   2024-01-07  Lubumbashi    Samsung Galaxy   Téléphones   673         1        10.0          673    605.70\n",
      "4   2024-01-05        Goma           Clé USB  Ordinateurs   600         1        15.0          600    510.00\n",
      "8   2024-01-09  Lubumbashi  Imprimante Canon  Imprimantes   168         3         0.0          504    168.00\n",
      "1   2024-01-02        Goma  Imprimante Canon  Accessoires   169         2         0.0          338    169.00\n",
      "9   2024-01-10        Goma     Écouteurs JBL   Téléphones   104         3        15.0          312     88.40\n"
     ]
    }
   ],
   "source": [
    "# Trier les ventes du plus grand au plus petit chiffre d'affaires \n",
    "database_1 = database_1.sort_values(by=\"Total_Vente\", ascending=False)\n",
    "print(database_1)\n"
   ]
  },
  {
   "cell_type": "code",
   "execution_count": 50,
   "id": "602232f7",
   "metadata": {},
   "outputs": [],
   "source": [
    "# Importer la base de données en fichier Excel\n",
    "database_1.to_excel(\"Ventes_magasin.xlsx\", index=False)"
   ]
  },
  {
   "cell_type": "markdown",
   "id": "ce12433a",
   "metadata": {},
   "source": [
    "#  Exercice 3 : Analyse par magasin"
   ]
  },
  {
   "cell_type": "code",
   "execution_count": 12,
   "id": "493f2f81",
   "metadata": {},
   "outputs": [
    {
     "name": "stdout",
     "output_type": "stream",
     "text": [
      "Magasin\n",
      "Bukavu    10930\n",
      "Name: Total_Vente, dtype: int64\n"
     ]
    }
   ],
   "source": [
    "# le magasin qui a vendu le plus\n",
    "vente_par_magasin = database_1.groupby(\"Magasin\")[\"Total_Vente\"].sum().sort_values(ascending=False)\n",
    "print(vente_par_magasin.head(1))\n"
   ]
  },
  {
   "cell_type": "code",
   "execution_count": 13,
   "id": "8cfa1d18",
   "metadata": {},
   "outputs": [
    {
     "name": "stdout",
     "output_type": "stream",
     "text": [
      "Magasin\n",
      "Bukavu        10930\n",
      "Lubumbashi     9884\n",
      "Kinshasa       8507\n",
      "Goma           7840\n",
      "Name: Total_Vente, dtype: int64\n"
     ]
    }
   ],
   "source": [
    "# Chiffre d'affaire par magasin\n",
    "vente_par_magasin = database_1.groupby(\"Magasin\")[\"Total_Vente\"].sum().sort_values(ascending=False)\n",
    "print(vente_par_magasin)"
   ]
  },
  {
   "cell_type": "code",
   "execution_count": 15,
   "id": "2b73290a",
   "metadata": {},
   "outputs": [
    {
     "name": "stdout",
     "output_type": "stream",
     "text": [
      "Produit\n",
      "Clé USB           6\n",
      "Samsung Galaxy    4\n",
      "Name: Quantité, dtype: int64\n"
     ]
    }
   ],
   "source": [
    "# Quel produit est le plus vendu à Kinshasa \n",
    "ventes_kinshasa = database_1[database_1[\"Magasin\"] == \"Kinshasa\"]\n",
    "produit_plus_vendu = ventes_kinshasa.groupby(\"Produit\")[\"Quantité\"].sum().sort_values(ascending=False)\n",
    "print(produit_plus_vendu)"
   ]
  },
  {
   "cell_type": "markdown",
   "id": "b682db8a",
   "metadata": {},
   "source": [
    "# Exercice 4 : Valeurs manquantes"
   ]
  },
  {
   "cell_type": "code",
   "execution_count": 19,
   "id": "87a43f78",
   "metadata": {},
   "outputs": [
    {
     "name": "stdout",
     "output_type": "stream",
     "text": [
      "          Date     Magasin           Produit    Catégorie  Prix  Quantité  Remise (%)  Total_Vente  Prix_net\n",
      "13  2024-01-14      Bukavu  Imprimante Canon  Ordinateurs  1380         5         0.0         6900   1380.00\n",
      "5   2024-01-06    Kinshasa           Clé USB  Accessoires  1285         5         0.0         6425   1285.00\n",
      "2   2024-01-03        Goma    Samsung Galaxy  Accessoires   914         4        10.0         3656    822.60\n",
      "16  2024-01-17  Lubumbashi  Imprimante Canon   Téléphones  1336         2         0.0         2672   1336.00\n",
      "10  2024-01-11  Lubumbashi  Imprimante Canon   Téléphones   469         5         0.0         2345    469.00\n",
      "3   2024-01-04  Lubumbashi     Écouteurs JBL  Imprimantes  1171         2         0.0         2342   1171.00\n",
      "0   2024-01-01      Bukavu     Écouteurs JBL  Accessoires   866         2         0.0         1732    866.00\n",
      "15  2024-01-16  Lubumbashi     Écouteurs JBL  Accessoires  1348         1        10.0         1348   1213.20\n",
      "17  2024-01-18      Bukavu         Laptop HP  Accessoires  1265         1         0.0         1265   1265.00\n",
      "14  2024-01-15    Kinshasa    Samsung Galaxy   Téléphones   298         4         0.0         1192    298.00\n",
      "19  2024-01-20        Goma           Clé USB   Téléphones  1059         1         5.0         1059   1006.05\n",
      "11  2024-01-12      Bukavu  Imprimante Canon  Imprimantes  1033         1        15.0         1033    878.05\n",
      "12  2024-01-13        Goma  Imprimante Canon  Accessoires   191         5        15.0          955    162.35\n",
      "7   2024-01-08        Goma           Clé USB  Ordinateurs   230         4        10.0          920    207.00\n",
      "18  2024-01-19    Kinshasa           Clé USB   Téléphones   890         1         0.0          890    890.00\n",
      "6   2024-01-07  Lubumbashi    Samsung Galaxy   Téléphones   673         1        10.0          673    605.70\n",
      "4   2024-01-05        Goma           Clé USB  Ordinateurs   600         1        15.0          600    510.00\n",
      "8   2024-01-09  Lubumbashi  Imprimante Canon  Imprimantes   168         3         0.0          504    168.00\n",
      "1   2024-01-02        Goma  Imprimante Canon  Accessoires   169         2         0.0          338    169.00\n",
      "9   2024-01-10        Goma     Écouteurs JBL   Téléphones   104         3        15.0          312     88.40\n"
     ]
    }
   ],
   "source": [
    "# Simuler des valeurs manquantes dans \"Remise (%)\" \n",
    "database_1[\"Remise (%)\"] = database_1[\"Remise (%)\"].fillna(5) # en supposant que la remise est de 5%\n",
    "print(database_1)"
   ]
  },
  {
   "cell_type": "code",
   "execution_count": 17,
   "id": "f62ed32a",
   "metadata": {},
   "outputs": [
    {
     "name": "stdout",
     "output_type": "stream",
     "text": [
      "          Date     Magasin           Produit    Catégorie  Prix  Quantité  Remise (%)  Total_Vente  Prix_net\n",
      "13  2024-01-14      Bukavu  Imprimante Canon  Ordinateurs  1380         5         0.0         6900   1380.00\n",
      "5   2024-01-06    Kinshasa           Clé USB  Accessoires  1285         5         0.0         6425   1285.00\n",
      "2   2024-01-03        Goma    Samsung Galaxy  Accessoires   914         4        10.0         3656    822.60\n",
      "16  2024-01-17  Lubumbashi  Imprimante Canon   Téléphones  1336         2         0.0         2672   1336.00\n",
      "10  2024-01-11  Lubumbashi  Imprimante Canon   Téléphones   469         5         0.0         2345    469.00\n",
      "3   2024-01-04  Lubumbashi     Écouteurs JBL  Imprimantes  1171         2         0.0         2342   1171.00\n",
      "0   2024-01-01      Bukavu     Écouteurs JBL  Accessoires   866         2         0.0         1732    866.00\n",
      "15  2024-01-16  Lubumbashi     Écouteurs JBL  Accessoires  1348         1        10.0         1348   1213.20\n",
      "17  2024-01-18      Bukavu         Laptop HP  Accessoires  1265         1         0.0         1265   1265.00\n",
      "14  2024-01-15    Kinshasa    Samsung Galaxy   Téléphones   298         4         0.0         1192    298.00\n",
      "19  2024-01-20        Goma           Clé USB   Téléphones  1059         1         5.0         1059   1006.05\n",
      "11  2024-01-12      Bukavu  Imprimante Canon  Imprimantes  1033         1        15.0         1033    878.05\n",
      "12  2024-01-13        Goma  Imprimante Canon  Accessoires   191         5        15.0          955    162.35\n",
      "7   2024-01-08        Goma           Clé USB  Ordinateurs   230         4        10.0          920    207.00\n",
      "18  2024-01-19    Kinshasa           Clé USB   Téléphones   890         1         0.0          890    890.00\n",
      "6   2024-01-07  Lubumbashi    Samsung Galaxy   Téléphones   673         1        10.0          673    605.70\n",
      "4   2024-01-05        Goma           Clé USB  Ordinateurs   600         1        15.0          600    510.00\n",
      "8   2024-01-09  Lubumbashi  Imprimante Canon  Imprimantes   168         3         0.0          504    168.00\n",
      "1   2024-01-02        Goma  Imprimante Canon  Accessoires   169         2         0.0          338    169.00\n",
      "9   2024-01-10        Goma     Écouteurs JBL   Téléphones   104         3        15.0          312     88.40\n"
     ]
    }
   ],
   "source": [
    "# ● Remplacer les valeurs manquantes par la moyenne\n",
    "remise_moyen = database_1[\"Remise (%)\"].mean() # Calcul de la moyenne (en ignorant les NaN)\n",
    "database_1[\"Remise (%)\"] = database_1[\"Remise (%)\"].fillna(remise_moyen) # Remplacement des NaN par la moyenne\n",
    "print(database_1)\n"
   ]
  },
  {
   "cell_type": "code",
   "execution_count": 24,
   "id": "8aa4245e",
   "metadata": {},
   "outputs": [
    {
     "data": {
      "text/plain": [
       "Date            object\n",
       "Magasin         object\n",
       "Produit         object\n",
       "Catégorie       object\n",
       "Prix             int64\n",
       "Quantité         int64\n",
       "Remise (%)     float64\n",
       "Total_Vente      int64\n",
       "Prix_net       float64\n",
       "dtype: object"
      ]
     },
     "execution_count": 24,
     "metadata": {},
     "output_type": "execute_result"
    }
   ],
   "source": [
    "#Vérifier les types de chaque colonne après\n",
    "database_1.dtypes\n",
    "\n"
   ]
  },
  {
   "cell_type": "code",
   "execution_count": 25,
   "id": "f4a1f3c9",
   "metadata": {},
   "outputs": [
    {
     "name": "stdout",
     "output_type": "stream",
     "text": [
      "<class 'pandas.core.frame.DataFrame'>\n",
      "Index: 20 entries, 13 to 9\n",
      "Data columns (total 9 columns):\n",
      " #   Column       Non-Null Count  Dtype  \n",
      "---  ------       --------------  -----  \n",
      " 0   Date         20 non-null     object \n",
      " 1   Magasin      20 non-null     object \n",
      " 2   Produit      20 non-null     object \n",
      " 3   Catégorie    20 non-null     object \n",
      " 4   Prix         20 non-null     int64  \n",
      " 5   Quantité     20 non-null     int64  \n",
      " 6   Remise (%)   20 non-null     float64\n",
      " 7   Total_Vente  20 non-null     int64  \n",
      " 8   Prix_net     20 non-null     float64\n",
      "dtypes: float64(2), int64(3), object(4)\n",
      "memory usage: 1.6+ KB\n"
     ]
    }
   ],
   "source": [
    "#Vérifier les types de chaque colonne après\n",
    "database_1.info()"
   ]
  },
  {
   "cell_type": "markdown",
   "id": "e3e373a5",
   "metadata": {},
   "source": [
    "# Exercice 5 : GroupBy avancé "
   ]
  },
  {
   "cell_type": "code",
   "execution_count": 26,
   "id": "6522677e",
   "metadata": {},
   "outputs": [
    {
     "name": "stdout",
     "output_type": "stream",
     "text": [
      "Catégorie\n",
      "Accessoires    862.571429\n",
      "Imprimantes    790.666667\n",
      "Ordinateurs    736.666667\n",
      "Téléphones     689.857143\n",
      "Name: Prix, dtype: float64\n"
     ]
    }
   ],
   "source": [
    "# Moyenne de prix par catégorie \n",
    "moyenne_prix_par_categorie = database_1.groupby(\"Catégorie\")[\"Prix\"].mean()\n",
    "print(moyenne_prix_par_categorie)\n"
   ]
  },
  {
   "cell_type": "code",
   "execution_count": 30,
   "id": "2f160252",
   "metadata": {},
   "outputs": [
    {
     "name": "stdout",
     "output_type": "stream",
     "text": [
      "Mois\n",
      "2024-01    37161\n",
      "Freq: M, Name: Total_Vente, dtype: int64\n"
     ]
    }
   ],
   "source": [
    "# Total des ventes par mois \n",
    "database_1[\"Date\"] = pd.to_datetime(database_1[\"Date\"]) # convertir la colonne \"Date\" en format datetime\n",
    "database_1[\"Mois\"] = database_1[\"Date\"].dt.to_period(\"M\") # extraire le mois (année-mois)\n",
    "total_par_mois = database_1.groupby(\"Mois\")[\"Total_Vente\"].sum() # total des ventes par mois\n",
    "print(total_par_mois)"
   ]
  },
  {
   "cell_type": "code",
   "execution_count": null,
   "id": "fb96f482",
   "metadata": {},
   "outputs": [
    {
     "name": "stdout",
     "output_type": "stream",
     "text": [
      "Produit\n",
      "Clé USB             12\n",
      "Imprimante Canon    23\n",
      "Laptop HP            1\n",
      "Samsung Galaxy       9\n",
      "Écouteurs JBL        8\n",
      "Name: Quantité, dtype: int64\n"
     ]
    }
   ],
   "source": [
    "# Nombre de ventes par produit\n",
    "ventes_par_produit = database_1.groupby(\"Produit\")[\"Quantité\"].sum()# Nombre total d’unités vendues par produit\n",
    "print(ventes_par_produit)"
   ]
  },
  {
   "cell_type": "code",
   "execution_count": 32,
   "id": "86e78271",
   "metadata": {},
   "outputs": [
    {
     "name": "stdout",
     "output_type": "stream",
     "text": [
      "Produit\n",
      "Imprimante Canon    7\n",
      "Clé USB             5\n",
      "Écouteurs JBL       4\n",
      "Samsung Galaxy      3\n",
      "Laptop HP           1\n",
      "Name: count, dtype: int64\n"
     ]
    }
   ],
   "source": [
    "# le nombre d’opérations (lignes de vente) par produit :\n",
    "nombre_lignes_par_produit = database_1[\"Produit\"].value_counts()\n",
    "print(nombre_lignes_par_produit)"
   ]
  },
  {
   "cell_type": "markdown",
   "id": "4eb2c3b6",
   "metadata": {},
   "source": [
    "# VISUALISATION"
   ]
  },
  {
   "cell_type": "markdown",
   "id": "af0a268c",
   "metadata": {},
   "source": [
    "## # Représenter graphiquement les ventes par magasin "
   ]
  },
  {
   "cell_type": "code",
   "execution_count": 33,
   "id": "7ba7f83a",
   "metadata": {},
   "outputs": [],
   "source": [
    "import seaborn as sns \n",
    "import numpy as np \n",
    "import matplotlib.pyplot as plt "
   ]
  },
  {
   "cell_type": "code",
   "execution_count": null,
   "id": "2d7d201a",
   "metadata": {},
   "outputs": [],
   "source": [
    "# Calacul de la colonne Prix_net puis Total_net\n",
    "database_1[\"Prix_net\"] = database_1[\"Prix\"] * (1 - database_1[\"Remise (%)\"] / 100)\n",
    "database_1[\"Total_net\"] = database_1[\"Prix_net\"] * database_1[\"Quantité\"]"
   ]
  },
  {
   "cell_type": "code",
   "execution_count": 39,
   "id": "4f6debfb",
   "metadata": {},
   "outputs": [
    {
     "data": {
      "text/plain": [
       "Magasin\n",
       "Bukavu        10775.05\n",
       "Lubumbashi     9681.90\n",
       "Kinshasa       8507.00\n",
       "Goma           7049.40\n",
       "Name: Total_net, dtype: float64"
      ]
     },
     "execution_count": 39,
     "metadata": {},
     "output_type": "execute_result"
    }
   ],
   "source": [
    "# Calcul des ventes nettes par magasin\n",
    "ventes_par_magasin = database_1.groupby(\"Magasin\")[\"Total_net\"].sum().sort_values(ascending=False)\n",
    "ventes_par_magasin"
   ]
  },
  {
   "cell_type": "code",
   "execution_count": 45,
   "id": "eb344aaa",
   "metadata": {},
   "outputs": [
    {
     "name": "stderr",
     "output_type": "stream",
     "text": [
      "C:\\Users\\HP\\AppData\\Local\\Temp\\ipykernel_21152\\3172611455.py:3: FutureWarning: \n",
      "\n",
      "Passing `palette` without assigning `hue` is deprecated and will be removed in v0.14.0. Assign the `x` variable to `hue` and set `legend=False` for the same effect.\n",
      "\n",
      "  sns.barplot(x=ventes_par_magasin.index, y=ventes_par_magasin.values, palette=\"viridis\")\n"
     ]
    },
    {
     "data": {
      "image/png": "[encoded data removed]",
      "text/plain": [
       "<Figure size 1000x600 with 1 Axes>"
      ]
     },
     "metadata": {},
     "output_type": "display_data"
    }
   ],
   "source": [
    "# Représenter graphiquement les ventes par magasin\n",
    "plt.figure(figsize=(10,6))\n",
    "sns.barplot(x=ventes_par_magasin.index, y=ventes_par_magasin.values, palette=\"viridis\")\n",
    "plt.title(\"Total des ventes par magasin\", fontsize=14)\n",
    "plt.xlabel(\"Magasin\")\n",
    "plt.ylabel(\"Total des ventes (net)\")\n",
    "plt.xticks(rotation=45)\n",
    "plt.tight_layout()\n",
    "plt.show()"
   ]
  },
  {
   "cell_type": "code",
   "execution_count": 49,
   "id": "dbebea1f",
   "metadata": {},
   "outputs": [],
   "source": [
    "# Créer un bar plot des produits les plus vendus \n",
    "# Agréger la quantité totale vendue par produitventes_par_produit = database_1.groupby(\"Produit\")[\"Quantité\"].sum().sort_values(ascending=False)\n",
    "ventes_par_produit = database_1.groupby(\"Produit\")[\"Quantité\"].sum().sort_values(ascending=False).reset_index()"
   ]
  },
  {
   "cell_type": "code",
   "execution_count": 50,
   "id": "a72983ac",
   "metadata": {},
   "outputs": [
    {
     "name": "stderr",
     "output_type": "stream",
     "text": [
      "C:\\Users\\HP\\AppData\\Local\\Temp\\ipykernel_21152\\901756002.py:3: FutureWarning: \n",
      "\n",
      "Passing `palette` without assigning `hue` is deprecated and will be removed in v0.14.0. Assign the `x` variable to `hue` and set `legend=False` for the same effect.\n",
      "\n",
      "  sns.barplot(data=ventes_par_produit, x=\"Produit\", y=\"Quantité\", palette=\"crest\")\n"
     ]
    },
    {
     "data": {
      "image/png": "[encoded data removed]",
      "text/plain": [
       "<Figure size 1200x600 with 1 Axes>"
      ]
     },
     "metadata": {},
     "output_type": "display_data"
    }
   ],
   "source": [
    "# Création du bar plot\n",
    "plt.figure(figsize=(12, 6))\n",
    "sns.barplot(data=ventes_par_produit, x=\"Produit\", y=\"Quantité\", palette=\"crest\")\n",
    "plt.title(\"Produits les plus vendus\", fontsize=14)\n",
    "plt.xlabel(\"Produit\")\n",
    "plt.ylabel(\"Quantité totale vendue\")\n",
    "plt.xticks(rotation=45)\n",
    "plt.tight_layout()\n",
    "plt.show()"
   ]
  }
 ],
 "metadata": {
  "kernelspec": {
   "display_name": "Python 3",
   "language": "python",
   "name": "python3"
  },
  "language_info": {
   "codemirror_mode": {
    "name": "ipython",
    "version": 3
   },
   "file_extension": ".py",
   "mimetype": "text/x-python",
   "name": "python",
   "nbconvert_exporter": "python",
   "pygments_lexer": "ipython3",
   "version": "3.13.3"
  }
 },
 "nbformat": 4,
 "nbformat_minor": 5
}



